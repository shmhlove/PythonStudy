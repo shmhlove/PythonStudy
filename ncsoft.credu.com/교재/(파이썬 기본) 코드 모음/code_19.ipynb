{
 "cells": [
  {
   "cell_type": "code",
   "execution_count": 1,
   "metadata": {
    "collapsed": true
   },
   "outputs": [],
   "source": [
    "from pyautomate import web\n",
    "from pyautomate import office\n",
    "import pyautomate"
   ]
  },
  {
   "cell_type": "code",
   "execution_count": 2,
   "metadata": {
    "collapsed": true
   },
   "outputs": [],
   "source": [
    "chrome = web.get_browser('./chromedriver')"
   ]
  },
  {
   "cell_type": "markdown",
   "metadata": {},
   "source": [
    "JTBC 뉴스 웹사이트 기사 추출"
   ]
  },
  {
   "cell_type": "code",
   "execution_count": 3,
   "metadata": {
    "collapsed": true
   },
   "outputs": [],
   "source": [
    "chrome.get('http://news.jtbc.joins.com/')"
   ]
  },
  {
   "cell_type": "markdown",
   "metadata": {},
   "source": [
    "페이지 소스 분석"
   ]
  },
  {
   "cell_type": "code",
   "execution_count": 4,
   "metadata": {
    "collapsed": true
   },
   "outputs": [],
   "source": [
    "html = web.html.Html(chrome.page_source)"
   ]
  },
  {
   "cell_type": "code",
   "execution_count": 5,
   "metadata": {
    "collapsed": true
   },
   "outputs": [],
   "source": [
    "elements = html.select('#jtbcBody a')"
   ]
  },
  {
   "cell_type": "code",
   "execution_count": 6,
   "metadata": {},
   "outputs": [
    {
     "data": {
      "text/plain": [
       "[<a href=\"http://news.jtbc.joins.com/html/475/NB11536475.html?cloc=jtbc|news|index_main_news\" target=\"_self\"><span><img alt=\"\" src=\"http://fs.jtbc.joins.com/edit/news/img/2017/10/18/201710181457226800.jpg\"/></span>환율조작국 지정 '급한 불' 껐지만…불씨는 여전</a>,\n",
       " <a href=\"http://news.jtbc.joins.com/html/486/NB11536486.html?cloc=jtbc|news|index_main_news\" target=\"_self\"><span><img alt=\"\" src=\"http://fs.jtbc.joins.com/edit/news/img/2017/10/18/201710181046405741.jpg\"/></span>中 '시진핑 이론' 담긴 특색 사회주의…당 대회서 천명</a>,\n",
       " <a href=\"http://news.jtbc.joins.com/html/474/NB11536474.html?cloc=jtbc|news|index_main_news\" target=\"_top\">檢, 국정원 '정치공작' 추명호·신승균·유성옥 구속 영장</a>]"
      ]
     },
     "execution_count": 6,
     "metadata": {},
     "output_type": "execute_result"
    }
   ],
   "source": [
    "elements[:3]"
   ]
  },
  {
   "cell_type": "code",
   "execution_count": 7,
   "metadata": {
    "collapsed": true
   },
   "outputs": [],
   "source": [
    "links = web.get_urls(elements)"
   ]
  },
  {
   "cell_type": "code",
   "execution_count": 8,
   "metadata": {},
   "outputs": [
    {
     "data": {
      "text/plain": [
       "[URL(text=\"환율조작국 지정 '급한 불' 껐지만…불씨는 여전\", url='http://news.jtbc.joins.com/html/475/NB11536475.html?cloc=jtbc|news|index_main_news'),\n",
       " URL(text=\"中 '시진핑 이론' 담긴 특색 사회주의…당 대회서 천명\", url='http://news.jtbc.joins.com/html/486/NB11536486.html?cloc=jtbc|news|index_main_news'),\n",
       " URL(text=\"檢, 국정원 '정치공작' 추명호 신승균 유성옥 구속 영장\", url='http://news.jtbc.joins.com/html/474/NB11536474.html?cloc=jtbc|news|index_main_news')]"
      ]
     },
     "execution_count": 8,
     "metadata": {},
     "output_type": "execute_result"
    }
   ],
   "source": [
    "links[:3]"
   ]
  },
  {
   "cell_type": "code",
   "execution_count": 9,
   "metadata": {
    "collapsed": true
   },
   "outputs": [],
   "source": [
    "from pandas import DataFrame"
   ]
  },
  {
   "cell_type": "code",
   "execution_count": 10,
   "metadata": {
    "collapsed": true
   },
   "outputs": [],
   "source": [
    "jtbc_articles = DataFrame(links)"
   ]
  },
  {
   "cell_type": "code",
   "execution_count": 11,
   "metadata": {},
   "outputs": [
    {
     "data": {
      "text/html": [
       "<div>\n",
       "<table border=\"1\" class=\"dataframe\">\n",
       "  <thead>\n",
       "    <tr style=\"text-align: right;\">\n",
       "      <th></th>\n",
       "      <th>text</th>\n",
       "      <th>url</th>\n",
       "    </tr>\n",
       "  </thead>\n",
       "  <tbody>\n",
       "    <tr>\n",
       "      <th>0</th>\n",
       "      <td>환율조작국 지정 '급한 불' 껐지만…불씨는 여전</td>\n",
       "      <td>http://news.jtbc.joins.com/html/475/NB11536475...</td>\n",
       "    </tr>\n",
       "    <tr>\n",
       "      <th>1</th>\n",
       "      <td>中 '시진핑 이론' 담긴 특색 사회주의…당 대회서 천명</td>\n",
       "      <td>http://news.jtbc.joins.com/html/486/NB11536486...</td>\n",
       "    </tr>\n",
       "    <tr>\n",
       "      <th>2</th>\n",
       "      <td>檢, 국정원 '정치공작' 추명호 신승균 유성옥 구속 영장</td>\n",
       "      <td>http://news.jtbc.joins.com/html/474/NB11536474...</td>\n",
       "    </tr>\n",
       "    <tr>\n",
       "      <th>3</th>\n",
       "      <td>법무부 \"朴 측 '인권침해'? 사실과 달라\" 정면반박</td>\n",
       "      <td>http://news.jtbc.joins.com/html/482/NB11536482...</td>\n",
       "    </tr>\n",
       "    <tr>\n",
       "      <th>4</th>\n",
       "      <td>'살충제 달걀' 이후 달라진 소비자들…한 판 가격 '뚝'</td>\n",
       "      <td>http://news.jtbc.joins.com/html/184/NB11536184...</td>\n",
       "    </tr>\n",
       "    <tr>\n",
       "      <th>5</th>\n",
       "      <td>韓 환율조작국 지정 고비 넘겨…美 보고서 발표</td>\n",
       "      <td>http://news.jtbc.joins.com/html/269/NB11536269...</td>\n",
       "    </tr>\n",
       "    <tr>\n",
       "      <th>6</th>\n",
       "      <td>'이헌 부위원장' 적시된 문건…특조위 외압 정황</td>\n",
       "      <td>http://news.jtbc.joins.com/html/203/NB11536203...</td>\n",
       "    </tr>\n",
       "    <tr>\n",
       "      <th>7</th>\n",
       "      <td>北 평창올림픽 참가 타진…한반도 정세 변곡점?</td>\n",
       "      <td>http://news.jtbc.joins.com/html/189/NB11536189...</td>\n",
       "    </tr>\n",
       "    <tr>\n",
       "      <th>8</th>\n",
       "      <td>이전</td>\n",
       "      <td>javascript:fnShowCaseMove('pre');</td>\n",
       "    </tr>\n",
       "    <tr>\n",
       "      <th>9</th>\n",
       "      <td>다음</td>\n",
       "      <td>javascript:fnShowCaseMove('nxt');</td>\n",
       "    </tr>\n",
       "  </tbody>\n",
       "</table>\n",
       "</div>"
      ],
      "text/plain": [
       "                              text  \\\n",
       "0       환율조작국 지정 '급한 불' 껐지만…불씨는 여전   \n",
       "1   中 '시진핑 이론' 담긴 특색 사회주의…당 대회서 천명   \n",
       "2  檢, 국정원 '정치공작' 추명호 신승균 유성옥 구속 영장   \n",
       "3    법무부 \"朴 측 '인권침해'? 사실과 달라\" 정면반박   \n",
       "4  '살충제 달걀' 이후 달라진 소비자들…한 판 가격 '뚝'   \n",
       "5        韓 환율조작국 지정 고비 넘겨…美 보고서 발표   \n",
       "6       '이헌 부위원장' 적시된 문건…특조위 외압 정황   \n",
       "7        北 평창올림픽 참가 타진…한반도 정세 변곡점?   \n",
       "8                               이전   \n",
       "9                               다음   \n",
       "\n",
       "                                                 url  \n",
       "0  http://news.jtbc.joins.com/html/475/NB11536475...  \n",
       "1  http://news.jtbc.joins.com/html/486/NB11536486...  \n",
       "2  http://news.jtbc.joins.com/html/474/NB11536474...  \n",
       "3  http://news.jtbc.joins.com/html/482/NB11536482...  \n",
       "4  http://news.jtbc.joins.com/html/184/NB11536184...  \n",
       "5  http://news.jtbc.joins.com/html/269/NB11536269...  \n",
       "6  http://news.jtbc.joins.com/html/203/NB11536203...  \n",
       "7  http://news.jtbc.joins.com/html/189/NB11536189...  \n",
       "8                  javascript:fnShowCaseMove('pre');  \n",
       "9                  javascript:fnShowCaseMove('nxt');  "
      ]
     },
     "execution_count": 11,
     "metadata": {},
     "output_type": "execute_result"
    }
   ],
   "source": [
    "jtbc_articles[:10]"
   ]
  },
  {
   "cell_type": "code",
   "execution_count": 12,
   "metadata": {},
   "outputs": [
    {
     "data": {
      "text/html": [
       "<div>\n",
       "<table border=\"1\" class=\"dataframe\">\n",
       "  <thead>\n",
       "    <tr style=\"text-align: right;\">\n",
       "      <th></th>\n",
       "      <th>text</th>\n",
       "      <th>url</th>\n",
       "    </tr>\n",
       "  </thead>\n",
       "  <tbody>\n",
       "    <tr>\n",
       "      <th>0</th>\n",
       "      <td>환율조작국 지정 '급한 불' 껐지만…불씨는 여전</td>\n",
       "      <td>http://news.jtbc.joins.com/html/475/NB11536475...</td>\n",
       "    </tr>\n",
       "    <tr>\n",
       "      <th>1</th>\n",
       "      <td>中 '시진핑 이론' 담긴 특색 사회주의…당 대회서 천명</td>\n",
       "      <td>http://news.jtbc.joins.com/html/486/NB11536486...</td>\n",
       "    </tr>\n",
       "    <tr>\n",
       "      <th>2</th>\n",
       "      <td>檢, 국정원 '정치공작' 추명호 신승균 유성옥 구속 영장</td>\n",
       "      <td>http://news.jtbc.joins.com/html/474/NB11536474...</td>\n",
       "    </tr>\n",
       "    <tr>\n",
       "      <th>3</th>\n",
       "      <td>법무부 \"朴 측 '인권침해'? 사실과 달라\" 정면반박</td>\n",
       "      <td>http://news.jtbc.joins.com/html/482/NB11536482...</td>\n",
       "    </tr>\n",
       "    <tr>\n",
       "      <th>4</th>\n",
       "      <td>'살충제 달걀' 이후 달라진 소비자들…한 판 가격 '뚝'</td>\n",
       "      <td>http://news.jtbc.joins.com/html/184/NB11536184...</td>\n",
       "    </tr>\n",
       "    <tr>\n",
       "      <th>5</th>\n",
       "      <td>韓 환율조작국 지정 고비 넘겨…美 보고서 발표</td>\n",
       "      <td>http://news.jtbc.joins.com/html/269/NB11536269...</td>\n",
       "    </tr>\n",
       "    <tr>\n",
       "      <th>6</th>\n",
       "      <td>'이헌 부위원장' 적시된 문건…특조위 외압 정황</td>\n",
       "      <td>http://news.jtbc.joins.com/html/203/NB11536203...</td>\n",
       "    </tr>\n",
       "    <tr>\n",
       "      <th>7</th>\n",
       "      <td>北 평창올림픽 참가 타진…한반도 정세 변곡점?</td>\n",
       "      <td>http://news.jtbc.joins.com/html/189/NB11536189...</td>\n",
       "    </tr>\n",
       "    <tr>\n",
       "      <th>8</th>\n",
       "      <td>탄핵안 가결 뒤 박근혜 청와대 '서버' 82대 폐기</td>\n",
       "      <td>http://news.jtbc.joins.com/html/897/NB11535897...</td>\n",
       "    </tr>\n",
       "    <tr>\n",
       "      <th>9</th>\n",
       "      <td>압수수색 막은 이유 있나? 폐기된 '82대 서버' 내역 보니</td>\n",
       "      <td>http://news.jtbc.joins.com/html/888/NB11535888...</td>\n",
       "    </tr>\n",
       "  </tbody>\n",
       "</table>\n",
       "</div>"
      ],
      "text/plain": [
       "                                text  \\\n",
       "0         환율조작국 지정 '급한 불' 껐지만…불씨는 여전   \n",
       "1     中 '시진핑 이론' 담긴 특색 사회주의…당 대회서 천명   \n",
       "2    檢, 국정원 '정치공작' 추명호 신승균 유성옥 구속 영장   \n",
       "3      법무부 \"朴 측 '인권침해'? 사실과 달라\" 정면반박   \n",
       "4    '살충제 달걀' 이후 달라진 소비자들…한 판 가격 '뚝'   \n",
       "5          韓 환율조작국 지정 고비 넘겨…美 보고서 발표   \n",
       "6         '이헌 부위원장' 적시된 문건…특조위 외압 정황   \n",
       "7          北 평창올림픽 참가 타진…한반도 정세 변곡점?   \n",
       "8       탄핵안 가결 뒤 박근혜 청와대 '서버' 82대 폐기   \n",
       "9  압수수색 막은 이유 있나? 폐기된 '82대 서버' 내역 보니   \n",
       "\n",
       "                                                 url  \n",
       "0  http://news.jtbc.joins.com/html/475/NB11536475...  \n",
       "1  http://news.jtbc.joins.com/html/486/NB11536486...  \n",
       "2  http://news.jtbc.joins.com/html/474/NB11536474...  \n",
       "3  http://news.jtbc.joins.com/html/482/NB11536482...  \n",
       "4  http://news.jtbc.joins.com/html/184/NB11536184...  \n",
       "5  http://news.jtbc.joins.com/html/269/NB11536269...  \n",
       "6  http://news.jtbc.joins.com/html/203/NB11536203...  \n",
       "7  http://news.jtbc.joins.com/html/189/NB11536189...  \n",
       "8  http://news.jtbc.joins.com/html/897/NB11535897...  \n",
       "9  http://news.jtbc.joins.com/html/888/NB11535888...  "
      ]
     },
     "execution_count": 12,
     "metadata": {},
     "output_type": "execute_result"
    }
   ],
   "source": [
    "elements = html.select('#jtbcBody a[href^=\"http://news.jtbc.joins.com/html\"]')\n",
    "links = web.get_urls(elements)\n",
    "jtbc_articles = DataFrame(links)\n",
    "jtbc_articles[:10]"
   ]
  },
  {
   "cell_type": "code",
   "execution_count": 13,
   "metadata": {},
   "outputs": [
    {
     "data": {
      "text/plain": [
       "'2017-10-18'"
      ]
     },
     "execution_count": 13,
     "metadata": {},
     "output_type": "execute_result"
    }
   ],
   "source": [
    "timestamp = pyautomate.get_timestamp()\n",
    "timestamp"
   ]
  },
  {
   "cell_type": "code",
   "execution_count": 14,
   "metadata": {},
   "outputs": [],
   "source": [
    "office.to_excel(jtbc_articles, 'jtbc_{}.xlsx'.format(timestamp))"
   ]
  },
  {
   "cell_type": "markdown",
   "metadata": {},
   "source": [
    "여러 뉴스 웹사이트에서 기사 추출"
   ]
  },
  {
   "cell_type": "code",
   "execution_count": 15,
   "metadata": {
    "collapsed": true
   },
   "outputs": [],
   "source": [
    "def get_links(html, selector):\n",
    "    elements = html.select(selector)\n",
    "    links = web.get_urls(elements)\n",
    "    articles = DataFrame(links)\n",
    "    return articles"
   ]
  },
  {
   "cell_type": "markdown",
   "metadata": {},
   "source": [
    "텍스트 파일 정보 활용"
   ]
  },
  {
   "cell_type": "code",
   "execution_count": 16,
   "metadata": {
    "collapsed": true
   },
   "outputs": [],
   "source": [
    "with open('data/news_websites.txt') as f:\n",
    "    news_websites = []\n",
    "    for line in f:\n",
    "        if line.strip():\n",
    "            title, url, selector = line.strip().split('|')\n",
    "            news_websites.append((title, url, selector))"
   ]
  },
  {
   "cell_type": "code",
   "execution_count": 17,
   "metadata": {
    "scrolled": true
   },
   "outputs": [
    {
     "data": {
      "text/plain": [
       "[('JTBC',\n",
       "  'http://news.jtbc.joins.com/',\n",
       "  '#jtbcBody a[href^=\"http://news.jtbc.joins.com/html\"]'),\n",
       " ('KBS',\n",
       "  'http://news.kbs.co.kr/common/main.html',\n",
       "  '#container a[href^=\"/news/view.do?ncd\"]'),\n",
       " ('MBC',\n",
       "  'http://imnews.imbc.com/',\n",
       "  '#middle a[href^=\"http://imnews.imbc.com/news\"]'),\n",
       " ('SBS',\n",
       "  'http://news.sbs.co.kr/news/newsMain.do',\n",
       "  '.w_inner a[href^=\"/news/endPage.do?news_id\"]')]"
      ]
     },
     "execution_count": 17,
     "metadata": {},
     "output_type": "execute_result"
    }
   ],
   "source": [
    "news_websites"
   ]
  },
  {
   "cell_type": "code",
   "execution_count": 18,
   "metadata": {},
   "outputs": [],
   "source": [
    "news_articles = []\n",
    "for title, url, selector in news_websites:\n",
    "    chrome.get(url)\n",
    "    html = web.html.Html(chrome.page_source)\n",
    "\n",
    "    articles = get_links(html, selector)\n",
    "    articles.name = title\n",
    "    news_articles.append(articles)"
   ]
  },
  {
   "cell_type": "code",
   "execution_count": 19,
   "metadata": {},
   "outputs": [],
   "source": [
    "office.to_excel(news_articles, 'news_{}.xlsx'.format(timestamp))"
   ]
  },
  {
   "cell_type": "markdown",
   "metadata": {},
   "source": [
    "# 웹사이트 인증 "
   ]
  },
  {
   "cell_type": "code",
   "execution_count": 20,
   "metadata": {},
   "outputs": [
    {
     "name": "stdout",
     "output_type": "stream",
     "text": [
      "username: nobody\n"
     ]
    }
   ],
   "source": [
    "user = input('username: ')"
   ]
  },
  {
   "cell_type": "code",
   "execution_count": 21,
   "metadata": {
    "collapsed": true
   },
   "outputs": [],
   "source": [
    "import getpass"
   ]
  },
  {
   "cell_type": "code",
   "execution_count": 22,
   "metadata": {},
   "outputs": [
    {
     "name": "stdout",
     "output_type": "stream",
     "text": [
      "password: ········\n"
     ]
    }
   ],
   "source": [
    "password = getpass.getpass('password: ')"
   ]
  },
  {
   "cell_type": "code",
   "execution_count": 23,
   "metadata": {
    "collapsed": true
   },
   "outputs": [],
   "source": [
    "chrome.get('http://www.naver.com/')"
   ]
  },
  {
   "cell_type": "code",
   "execution_count": 24,
   "metadata": {
    "collapsed": true
   },
   "outputs": [],
   "source": [
    "login_id_box = chrome.find_element_by_css_selector('#id')"
   ]
  },
  {
   "cell_type": "code",
   "execution_count": 25,
   "metadata": {
    "collapsed": true
   },
   "outputs": [],
   "source": [
    "login_id_box.send_keys(user)"
   ]
  },
  {
   "cell_type": "code",
   "execution_count": 26,
   "metadata": {
    "collapsed": true
   },
   "outputs": [],
   "source": [
    "login_password_box = chrome.find_element_by_css_selector('#pw')"
   ]
  },
  {
   "cell_type": "code",
   "execution_count": 27,
   "metadata": {
    "collapsed": true
   },
   "outputs": [],
   "source": [
    "login_password_box.send_keys(password)"
   ]
  },
  {
   "cell_type": "code",
   "execution_count": 28,
   "metadata": {
    "collapsed": true
   },
   "outputs": [],
   "source": [
    "login_btn = chrome.find_element_by_css_selector('.login input[type=\"submit\"]')"
   ]
  },
  {
   "cell_type": "code",
   "execution_count": 29,
   "metadata": {
    "collapsed": true
   },
   "outputs": [],
   "source": [
    "login_btn.click()"
   ]
  },
  {
   "cell_type": "code",
   "execution_count": 30,
   "metadata": {
    "collapsed": true
   },
   "outputs": [],
   "source": [
    "chrome.quit()"
   ]
  },
  {
   "cell_type": "code",
   "execution_count": null,
   "metadata": {
    "collapsed": true
   },
   "outputs": [],
   "source": []
  }
 ],
 "metadata": {
  "kernelspec": {
   "display_name": "Python 3",
   "language": "python",
   "name": "python3"
  },
  "language_info": {
   "codemirror_mode": {
    "name": "ipython",
    "version": 3
   },
   "file_extension": ".py",
   "mimetype": "text/x-python",
   "name": "python",
   "nbconvert_exporter": "python",
   "pygments_lexer": "ipython3",
   "version": "3.5.2"
  }
 },
 "nbformat": 4,
 "nbformat_minor": 1
}
