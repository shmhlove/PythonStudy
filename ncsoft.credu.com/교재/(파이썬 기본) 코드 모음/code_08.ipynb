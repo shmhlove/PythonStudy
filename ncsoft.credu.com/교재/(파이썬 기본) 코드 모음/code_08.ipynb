{
 "cells": [
  {
   "cell_type": "code",
   "execution_count": 1,
   "metadata": {},
   "outputs": [
    {
     "data": {
      "text/plain": [
       "'c:\\\\Users\\\\seongjoo\\\\Documents\\\\data'"
      ]
     },
     "execution_count": 1,
     "metadata": {},
     "output_type": "execute_result"
    }
   ],
   "source": [
    "'c:\\\\Users\\\\seongjoo\\\\Documents\\\\data'"
   ]
  },
  {
   "cell_type": "code",
   "execution_count": 2,
   "metadata": {},
   "outputs": [
    {
     "name": "stdout",
     "output_type": "stream",
     "text": [
      "data\\projects\u0001\n",
      "otice.docx\n"
     ]
    }
   ],
   "source": [
    "경로 = 'data\\projects\\01\\notice.docx'\n",
    "print(경로)"
   ]
  },
  {
   "cell_type": "code",
   "execution_count": 3,
   "metadata": {},
   "outputs": [
    {
     "name": "stdout",
     "output_type": "stream",
     "text": [
      "data/projects/01/notice.docx\n"
     ]
    }
   ],
   "source": [
    "경로 = 'data/projects/01/notice.docx'\n",
    "print(경로)"
   ]
  },
  {
   "cell_type": "markdown",
   "metadata": {},
   "source": [
    "윈도우 파일탐색기에서 붙여넣는 경우"
   ]
  },
  {
   "cell_type": "code",
   "execution_count": 4,
   "metadata": {},
   "outputs": [
    {
     "name": "stdout",
     "output_type": "stream",
     "text": [
      "c:\\Users\\seongjoo\\Documents\\data\\notice.docx\n"
     ]
    }
   ],
   "source": [
    "경로 = r'c:\\Users\\seongjoo\\Documents\\data\\notice.docx'\n",
    "print(경로)"
   ]
  },
  {
   "cell_type": "code",
   "execution_count": 5,
   "metadata": {
    "collapsed": true
   },
   "outputs": [],
   "source": [
    "import os"
   ]
  },
  {
   "cell_type": "code",
   "execution_count": 6,
   "metadata": {},
   "outputs": [
    {
     "data": {
      "text/plain": [
       "'/Users/seongjoo/development/ncsoft/pyautomate/notebooks'"
      ]
     },
     "execution_count": 6,
     "metadata": {},
     "output_type": "execute_result"
    }
   ],
   "source": [
    "os.getcwd()"
   ]
  },
  {
   "cell_type": "markdown",
   "metadata": {},
   "source": [
    "## 경로 유형\n",
    "\n",
    "* 절대경로\n",
    "* 상대경로"
   ]
  },
  {
   "cell_type": "code",
   "execution_count": 7,
   "metadata": {
    "collapsed": true
   },
   "outputs": [],
   "source": [
    "path = 'data/projects/'"
   ]
  },
  {
   "cell_type": "code",
   "execution_count": 8,
   "metadata": {},
   "outputs": [
    {
     "data": {
      "text/plain": [
       "False"
      ]
     },
     "execution_count": 8,
     "metadata": {},
     "output_type": "execute_result"
    }
   ],
   "source": [
    "os.path.isabs(path)"
   ]
  },
  {
   "cell_type": "code",
   "execution_count": 9,
   "metadata": {},
   "outputs": [
    {
     "data": {
      "text/plain": [
       "'/Users/seongjoo/development/ncsoft/pyautomate/notebooks/data/projects'"
      ]
     },
     "execution_count": 9,
     "metadata": {},
     "output_type": "execute_result"
    }
   ],
   "source": [
    "os.path.abspath(path)"
   ]
  },
  {
   "cell_type": "markdown",
   "metadata": {},
   "source": [
    "## 경로 구성 "
   ]
  },
  {
   "cell_type": "code",
   "execution_count": 10,
   "metadata": {
    "scrolled": true
   },
   "outputs": [
    {
     "data": {
      "text/plain": [
       "'data/projects/01/data.csv'"
      ]
     },
     "execution_count": 10,
     "metadata": {},
     "output_type": "execute_result"
    }
   ],
   "source": [
    "'data' + '/' + 'projects' + '/' + '01' + '/' + 'data.csv'"
   ]
  },
  {
   "cell_type": "code",
   "execution_count": 11,
   "metadata": {},
   "outputs": [
    {
     "data": {
      "text/plain": [
       "'data/projects/01/data.csv'"
      ]
     },
     "execution_count": 11,
     "metadata": {},
     "output_type": "execute_result"
    }
   ],
   "source": [
    "path = os.path.join('data', 'projects', '01', 'data.csv')\n",
    "path"
   ]
  },
  {
   "cell_type": "code",
   "execution_count": 12,
   "metadata": {},
   "outputs": [
    {
     "name": "stdout",
     "output_type": "stream",
     "text": [
      "data/projects/1/data.csv\n",
      "data/projects/2/data.csv\n",
      "data/projects/3/data.csv\n",
      "data/projects/4/data.csv\n",
      "data/projects/5/data.csv\n",
      "data/projects/6/data.csv\n",
      "data/projects/7/data.csv\n",
      "data/projects/8/data.csv\n",
      "data/projects/9/data.csv\n",
      "data/projects/10/data.csv\n",
      "data/projects/11/data.csv\n",
      "data/projects/12/data.csv\n"
     ]
    }
   ],
   "source": [
    "dirname = os.path.join('data', 'projects')\n",
    "for i in range(1, 13):\n",
    "    month = '{}'.format(i)\n",
    "    path = os.path.join(dirname, month, 'data.csv')\n",
    "    print(path)"
   ]
  },
  {
   "cell_type": "code",
   "execution_count": 13,
   "metadata": {},
   "outputs": [
    {
     "data": {
      "text/plain": [
       "'data.csv'"
      ]
     },
     "execution_count": 13,
     "metadata": {},
     "output_type": "execute_result"
    }
   ],
   "source": [
    "os.path.basename(path)"
   ]
  },
  {
   "cell_type": "code",
   "execution_count": 14,
   "metadata": {},
   "outputs": [
    {
     "data": {
      "text/plain": [
       "'data/projects/12'"
      ]
     },
     "execution_count": 14,
     "metadata": {},
     "output_type": "execute_result"
    }
   ],
   "source": [
    "os.path.dirname(path)"
   ]
  },
  {
   "cell_type": "code",
   "execution_count": 15,
   "metadata": {},
   "outputs": [
    {
     "data": {
      "text/plain": [
       "('data/projects/12', 'data.csv')"
      ]
     },
     "execution_count": 15,
     "metadata": {},
     "output_type": "execute_result"
    }
   ],
   "source": [
    "os.path.split(path)"
   ]
  },
  {
   "cell_type": "markdown",
   "metadata": {},
   "source": [
    "## 경로 정보 "
   ]
  },
  {
   "cell_type": "code",
   "execution_count": 16,
   "metadata": {},
   "outputs": [
    {
     "data": {
      "text/plain": [
       "True"
      ]
     },
     "execution_count": 16,
     "metadata": {},
     "output_type": "execute_result"
    }
   ],
   "source": [
    "os.path.exists(path)"
   ]
  },
  {
   "cell_type": "code",
   "execution_count": 17,
   "metadata": {},
   "outputs": [
    {
     "data": {
      "text/plain": [
       "False"
      ]
     },
     "execution_count": 17,
     "metadata": {},
     "output_type": "execute_result"
    }
   ],
   "source": [
    "os.path.isdir(path)"
   ]
  },
  {
   "cell_type": "code",
   "execution_count": 18,
   "metadata": {},
   "outputs": [
    {
     "data": {
      "text/plain": [
       "True"
      ]
     },
     "execution_count": 18,
     "metadata": {},
     "output_type": "execute_result"
    }
   ],
   "source": [
    "os.path.isfile(path)"
   ]
  },
  {
   "cell_type": "code",
   "execution_count": 19,
   "metadata": {},
   "outputs": [
    {
     "data": {
      "text/plain": [
       "False"
      ]
     },
     "execution_count": 19,
     "metadata": {},
     "output_type": "execute_result"
    }
   ],
   "source": [
    "os.path.isdir('no/such/data')"
   ]
  },
  {
   "cell_type": "code",
   "execution_count": 20,
   "metadata": {},
   "outputs": [
    {
     "data": {
      "text/plain": [
       "False"
      ]
     },
     "execution_count": 20,
     "metadata": {},
     "output_type": "execute_result"
    }
   ],
   "source": [
    "os.path.isfile('no/such/file')"
   ]
  },
  {
   "cell_type": "code",
   "execution_count": 21,
   "metadata": {},
   "outputs": [
    {
     "data": {
      "text/plain": [
       "7770"
      ]
     },
     "execution_count": 21,
     "metadata": {},
     "output_type": "execute_result"
    }
   ],
   "source": [
    "os.path.getsize('data/projects/01/data.csv')"
   ]
  },
  {
   "cell_type": "code",
   "execution_count": 22,
   "metadata": {},
   "outputs": [
    {
     "data": {
      "text/plain": [
       "306"
      ]
     },
     "execution_count": 22,
     "metadata": {},
     "output_type": "execute_result"
    }
   ],
   "source": [
    "os.path.getsize('data/projects/01')"
   ]
  },
  {
   "cell_type": "markdown",
   "metadata": {},
   "source": [
    "디렉토리 항목"
   ]
  },
  {
   "cell_type": "code",
   "execution_count": 23,
   "metadata": {},
   "outputs": [
    {
     "data": {
      "text/plain": [
       "['.DS_Store',\n",
       " '.ipynb_checkpoints',\n",
       " 'code_03.ipynb',\n",
       " 'code_04.ipynb',\n",
       " 'code_05.ipynb',\n",
       " 'code_06.ipynb',\n",
       " 'code_07.ipynb',\n",
       " 'code_08.ipynb',\n",
       " 'code_09.ipynb',\n",
       " 'code_10.ipynb',\n",
       " 'code_11.ipynb',\n",
       " 'code_12.ipynb',\n",
       " 'code_13.ipynb',\n",
       " 'code_14.ipynb',\n",
       " 'code_15.ipynb',\n",
       " 'code_16.ipynb',\n",
       " 'code_17.ipynb',\n",
       " 'code_18.ipynb',\n",
       " 'code_19.ipynb',\n",
       " 'code_20.ipynb',\n",
       " 'code_21.ipynb',\n",
       " 'code_22.ipynb',\n",
       " 'code_23.ipynb',\n",
       " 'code_24.ipynb',\n",
       " 'data']"
      ]
     },
     "execution_count": 23,
     "metadata": {},
     "output_type": "execute_result"
    }
   ],
   "source": [
    "os.listdir()"
   ]
  },
  {
   "cell_type": "code",
   "execution_count": 24,
   "metadata": {},
   "outputs": [
    {
     "data": {
      "text/plain": [
       "['attachments',\n",
       " 'data.csv',\n",
       " 'notice.docx',\n",
       " 'README.txt',\n",
       " 'resources',\n",
       " 'tables.xlsx',\n",
       " 'use.pdf']"
      ]
     },
     "execution_count": 24,
     "metadata": {},
     "output_type": "execute_result"
    }
   ],
   "source": [
    "os.listdir('data/projects/01')"
   ]
  },
  {
   "cell_type": "code",
   "execution_count": 25,
   "metadata": {},
   "outputs": [
    {
     "name": "stdout",
     "output_type": "stream",
     "text": [
      "data/projects/01/data.csv\n",
      "data/projects/01/notice.docx\n",
      "data/projects/01/README.txt\n",
      "data/projects/01/tables.xlsx\n",
      "data/projects/01/use.pdf\n"
     ]
    }
   ],
   "source": [
    "dirname = 'data/projects/01'\n",
    "files = []\n",
    "for entry in os.listdir(dirname):\n",
    "    path = os.path.join(dirname, entry)\n",
    "    if os.path.isfile(path):\n",
    "        print(path)\n",
    "        files.append(path)        "
   ]
  },
  {
   "cell_type": "code",
   "execution_count": 26,
   "metadata": {},
   "outputs": [
    {
     "name": "stdout",
     "output_type": "stream",
     "text": [
      "/Users/seongjoo/development/ncsoft/pyautomate/notebooks/data/projects/01/data.csv\n",
      "/Users/seongjoo/development/ncsoft/pyautomate/notebooks/data/projects/01/notice.docx\n",
      "/Users/seongjoo/development/ncsoft/pyautomate/notebooks/data/projects/01/README.txt\n",
      "/Users/seongjoo/development/ncsoft/pyautomate/notebooks/data/projects/01/tables.xlsx\n",
      "/Users/seongjoo/development/ncsoft/pyautomate/notebooks/data/projects/01/use.pdf\n"
     ]
    }
   ],
   "source": [
    "files_abspath = []\n",
    "for file in files:\n",
    "    abspath = os.path.abspath(file)\n",
    "    print(abspath)\n",
    "    files_abspath.append(abspath)"
   ]
  },
  {
   "cell_type": "code",
   "execution_count": 27,
   "metadata": {},
   "outputs": [
    {
     "name": "stdout",
     "output_type": "stream",
     "text": [
      "data/projects/01/data.csv (7770)\n",
      "data/projects/01/notice.docx (1050)\n",
      "data/projects/01/README.txt (2910)\n",
      "data/projects/01/tables.xlsx (6840)\n",
      "data/projects/01/use.pdf (1990)\n"
     ]
    }
   ],
   "source": [
    "for file in files:\n",
    "    file_size = os.path.getsize(file)\n",
    "    if file_size > 1000:\n",
    "        print('{} ({})'.format(file, file_size))"
   ]
  },
  {
   "cell_type": "code",
   "execution_count": 28,
   "metadata": {},
   "outputs": [
    {
     "name": "stdout",
     "output_type": "stream",
     "text": [
      "20560\n"
     ]
    }
   ],
   "source": [
    "total_size = 0\n",
    "for file in files:\n",
    "    file_size = os.path.getsize(file)\n",
    "    total_size += file_size\n",
    "    \n",
    "print(total_size)"
   ]
  },
  {
   "cell_type": "code",
   "execution_count": null,
   "metadata": {
    "collapsed": true
   },
   "outputs": [],
   "source": []
  }
 ],
 "metadata": {
  "kernelspec": {
   "display_name": "Python 3",
   "language": "python",
   "name": "python3"
  },
  "language_info": {
   "codemirror_mode": {
    "name": "ipython",
    "version": 3
   },
   "file_extension": ".py",
   "mimetype": "text/x-python",
   "name": "python",
   "nbconvert_exporter": "python",
   "pygments_lexer": "ipython3",
   "version": "3.5.2"
  }
 },
 "nbformat": 4,
 "nbformat_minor": 1
}
