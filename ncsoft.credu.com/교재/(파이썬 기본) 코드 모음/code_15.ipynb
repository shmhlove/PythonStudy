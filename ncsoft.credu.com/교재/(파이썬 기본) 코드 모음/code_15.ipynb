{
 "cells": [
  {
   "cell_type": "code",
   "execution_count": 1,
   "metadata": {},
   "outputs": [],
   "source": [
    "from pyautomate.pdf import PDFDocument"
   ]
  },
  {
   "cell_type": "code",
   "execution_count": 2,
   "metadata": {
    "collapsed": true
   },
   "outputs": [],
   "source": [
    "pdf_doc = PDFDocument('data/steve_jobs.pdf')"
   ]
  },
  {
   "cell_type": "code",
   "execution_count": 3,
   "metadata": {},
   "outputs": [
    {
     "name": "stdout",
     "output_type": "stream",
     "text": [
      "스티브 잡스  스티븐 폴 잡스(영어: Steven Paul Jobs, 1955년 2월 24일 ~ 2011년 10월 5일), 간단히 스티브 잡스(Steve Jobs)는 미국의 기업인이었다. 애플의 전 CEO이자 공동 창립자다. 2011년 10월 5일 췌장암에 의해 사망했다.  1976년 스티브 워즈니악, 로널드 웨인과 함께 애플을 공동 창업하고, 애플 2를 통해 개인용 컴퓨터를 대중화했다. 또한, GUI와 마우스의 가능성을 처음으로 내다보고 애플 리사와 매킨토시에서 이 기술을 도입하였다. 1985년 경영분쟁에 의해 애플에서 나온 이후 NeXT 컴퓨터를 창업하여 새로운 개념의 운영 체제를 개발했다. 1996년 애플이 NeXT를 인수하게 되면서 다시 애플로 돌아오게 되었고 1997년에는 임시 CEO로 애플을 다시 이끌게 되었으며 이후 다시금 애플을 혁신해 시장에서 성공을 거두게 이끌었다. 2001년 아이팟을 출시하여 음악 산업 전체를 뒤바꾸어 놓았다. 또한, 2007년 아이폰 을 출시하면서 스마트폰 시장을 바꾸어 놓았고 2010년 아이패드를 출시함으로써 포스트PC 시대를 열었다.  스티브 잡스는 애니메이션 영화 《인크레더블》과 《토이 스토리》 등을 제작한 컴퓨터 애니메이션 제작사인 픽사의 소유주이자 CEO였다. 월트 디즈니 회사는 최근 74억 달러어치의 자사 주식으로 이 회사를 구입하였다. 2006년 6월 이 거래가 완료되어 잡스는 이 거래를 통해 디즈니 지분의 7%를 소유한, 최대의 개인 주주이자 디즈니 이사회의 이사가 되었다. 한편 그는 2004년 무렵부터 췌장암으로 투병생활을 이어왔다. 그의 악화된 건강상태로 인하여 2011년 8월 24일 애플은 스티브 잡스가 최고경영책임자(CEO)를 사임하고 최고운영책임자(COO)인 팀 쿡이 새로운 CEO를 맡는다고 밝혔다. 잡스는 CEO직에서 물러나지만 이사회 의장직은 유지시키기로 했으나, 건강상태가 더욱 악화되어 사임 2개월도 지나지 않은 2011년 10월 5일 향년 56세의 나이로 사망하였다.[1] IT분야의 혁신의 아이콘으로 꼽힌다.  업적 창업 이후 잡스는 홈브루 컴퓨터 클럽이라는 이름의 클럽에서 스티브 워즈니악이 개발한 최초의 개인용 컴퓨터 애플1을 공개했다. 애플1은 모니터도 없고 디자인도 투박했으나 의외로 큰 반응을 보이며 판매에 성공했고 그에 힘입어 1980년에는 주식을 공개했다. 1984년에는 IBM에 대항하여 그래픽 사용자 인터페이스를 탑재한 애플 리사를 내놓았다. 그러나 하드웨어와 소프트웨어의 가격이 너무 비싸서 실패하였고, 또 매킨토시 프로젝트가 경쟁사 IBM에 비해 가격이 비싸기도 했다. 그리고 응용 소프트웨어 또한 부족하자 또다시 실패하게 되었다. 이것은 전 세계 대부분 사람들이 PC를 사용하게 된 큰 사건이었다. 결국, 잡스는 존 스컬리에 의해 1985년에 애플 경영 일선에서 물러났다.  애플을 떠난 뒤 넥스트사를 세워 세계 최초의 객체 지향 운영 체제인 넥스트 스텝을 개발하였고 1986년 이혼 문제 때문에 자금이 필요했던 조지 루커스 감독의 컴퓨터 그래픽 회사를 인수하였다. 잡스는 회사 이름을 픽사로 바꾸고 10년간 6천만 달러를 투자하여 할리우드 최고의 애니메이션 회사로 키워냈다. 픽사는 여러 번 단편 애니메이션 분야에서 오스카상을 받았으며 그 뒤로 최초의 장편 3D 애니메이션 《토이 스토리》로 큰 성공을 거두었고 현재는 디즈니사에 합병되었다. 그 후 1997년 넥스트는 애플에 인수되었으며 그와 동시에 그는 애플로 돌아왔다. 그 해 7월 애플의 최고 경영자로 복귀하였으며, 1997년 10억 달러의 적자를 낸 애플을 한 해 만에 4억 달러에 가까운 흑자를 내게 하였다.[11]  이와 같은 잡스의 업적과 영향력 때문에 그를 추종하는 사람들이 나오기도 하였다. 일부 그의 팬들은 예수를 빗대어 추켜세우기도 했다.[12]  애플은 2011년 8월 24일 성명을 내고 최고경영자(CEO)인 잡스가 CEO직을 즉각 사임한다고 밝혔다. 애플은 팀 쿡 최고운영책임자(COO)가 후임을 맡을 것이라고 말했다.[13]  \n"
     ]
    }
   ],
   "source": [
    "content = pdf_doc.extract_text()\n",
    "print(content)"
   ]
  },
  {
   "cell_type": "code",
   "execution_count": 4,
   "metadata": {},
   "outputs": [],
   "source": [
    "pdf_doc.extract_text('jobs.docx')"
   ]
  },
  {
   "cell_type": "code",
   "execution_count": 5,
   "metadata": {},
   "outputs": [],
   "source": [
    "pdf_doc.extract_text('jobs.txt', encoding='utf-8')"
   ]
  },
  {
   "cell_type": "markdown",
   "metadata": {},
   "source": [
    "여러 PDF 파일에서 텍스트를 추출해 모두 워드 파일로 변환하기"
   ]
  },
  {
   "cell_type": "code",
   "execution_count": 6,
   "metadata": {
    "collapsed": true
   },
   "outputs": [],
   "source": [
    "import os\n",
    "\n",
    "pdf_files = ['data/turing.pdf', 'data/steve_jobs.pdf']\n",
    "for path in pdf_files:\n",
    "    output_filename = '{}.docx'.format(os.path.basename(path).split('.')[0])\n",
    "    pdf_doc = PDFDocument(path)\n",
    "    pdf_doc.extract_text(output_filename)"
   ]
  },
  {
   "cell_type": "code",
   "execution_count": null,
   "metadata": {
    "collapsed": true
   },
   "outputs": [],
   "source": []
  }
 ],
 "metadata": {
  "kernelspec": {
   "display_name": "Python 3",
   "language": "python",
   "name": "python3"
  },
  "language_info": {
   "codemirror_mode": {
    "name": "ipython",
    "version": 3
   },
   "file_extension": ".py",
   "mimetype": "text/x-python",
   "name": "python",
   "nbconvert_exporter": "python",
   "pygments_lexer": "ipython3",
   "version": "3.5.2"
  }
 },
 "nbformat": 4,
 "nbformat_minor": 1
}
