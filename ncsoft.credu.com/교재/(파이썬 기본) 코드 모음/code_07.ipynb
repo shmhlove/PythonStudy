{
 "cells": [
  {
   "cell_type": "markdown",
   "metadata": {},
   "source": [
    "# 함수\n",
    "\n",
    "\"코드를 작성했는데, 복사-붙여넣기 하지 않고도 여러 번 활용할 수 있을까?\""
   ]
  },
  {
   "cell_type": "markdown",
   "metadata": {},
   "source": [
    "함수는 여러 구문을 한데 묶어 이름을 붙인 것입니다.\n",
    "\n",
    "예를 들어, \"옷 입고 금방 나갈께!\"라고 했을 때, 옷을 입는다는 것은 사실 매우 여러 가지 단계가 있습니다.\n",
    "\n",
    "옷입기  \n",
    "1) 서랍을 찾는다.  \n",
    "2) 서랍을 연다.  \n",
    "3) 원하는 옷을 찾는다.  \n",
    "4) 적절한 부위에 옷을 착용한다.  \n",
    "5) 몸의 대부분이 가려질 때까지 1-4를 반복한다.  "
   ]
  },
  {
   "cell_type": "code",
   "execution_count": 1,
   "metadata": {
    "collapsed": true
   },
   "outputs": [],
   "source": [
    "def juicer(fruit):\n",
    "    juice = '{} 주스'.format(fruit)\n",
    "    return juice"
   ]
  },
  {
   "cell_type": "markdown",
   "metadata": {},
   "source": [
    "함수 활용"
   ]
  },
  {
   "cell_type": "code",
   "execution_count": 2,
   "metadata": {},
   "outputs": [
    {
     "data": {
      "text/plain": [
       "'사과 주스'"
      ]
     },
     "execution_count": 2,
     "metadata": {},
     "output_type": "execute_result"
    }
   ],
   "source": [
    "juicer('사과')"
   ]
  },
  {
   "cell_type": "code",
   "execution_count": 3,
   "metadata": {},
   "outputs": [
    {
     "data": {
      "text/plain": [
       "'딸기 주스'"
      ]
     },
     "execution_count": 3,
     "metadata": {},
     "output_type": "execute_result"
    }
   ],
   "source": [
    "juicer('딸기')"
   ]
  },
  {
   "cell_type": "markdown",
   "metadata": {},
   "source": [
    "함수 내부의 변수와 결과값"
   ]
  },
  {
   "cell_type": "code",
   "execution_count": 4,
   "metadata": {},
   "outputs": [
    {
     "name": "stdout",
     "output_type": "stream",
     "text": [
      "맛있는 사과 주스\n"
     ]
    }
   ],
   "source": [
    "cup = juicer('사과')\n",
    "print('맛있는 {}'.format(cup))"
   ]
  },
  {
   "cell_type": "markdown",
   "metadata": {},
   "source": [
    "재료를 넣으면 맛있는 빵을 만들어주는 (...실제로는 문자열이지만) 함수를 작성해 다음을 수행합니다.\n",
    "\n",
    "* 재료: 모카 --> 결과: 모카빵\n",
    "* 재료: 아몬드 --> 결과: 아몬드빵\n",
    "\n",
    "*생각해 볼 점*\n",
    "\n",
    "강아지를 함수에 넣으면 어떻게 될까 ... 요? (윤리적/법률적 정답: 동물 학대입니다.)\n",
    "\n",
    "* 정해진 재료가 아니면 동작을 안 하도록 할 수 있을까요?"
   ]
  },
  {
   "cell_type": "code",
   "execution_count": 5,
   "metadata": {
    "collapsed": true
   },
   "outputs": [],
   "source": [
    "def baker(재료):\n",
    "    빵 = 재료 + '빵'\n",
    "    return 빵"
   ]
  },
  {
   "cell_type": "code",
   "execution_count": 6,
   "metadata": {},
   "outputs": [
    {
     "data": {
      "text/plain": [
       "'모카빵'"
      ]
     },
     "execution_count": 6,
     "metadata": {},
     "output_type": "execute_result"
    }
   ],
   "source": [
    "baker('모카')"
   ]
  },
  {
   "cell_type": "code",
   "execution_count": 7,
   "metadata": {},
   "outputs": [
    {
     "data": {
      "text/plain": [
       "'아몬드빵'"
      ]
     },
     "execution_count": 7,
     "metadata": {},
     "output_type": "execute_result"
    }
   ],
   "source": [
    "baker('아몬드')"
   ]
  },
  {
   "cell_type": "code",
   "execution_count": 8,
   "metadata": {},
   "outputs": [
    {
     "data": {
      "text/plain": [
       "'성주빵'"
      ]
     },
     "execution_count": 8,
     "metadata": {},
     "output_type": "execute_result"
    }
   ],
   "source": [
    "baker('성주')"
   ]
  },
  {
   "cell_type": "markdown",
   "metadata": {},
   "source": [
    "재료에 따라 다르게 동작하도록 만들기"
   ]
  },
  {
   "cell_type": "code",
   "execution_count": 9,
   "metadata": {
    "collapsed": true
   },
   "outputs": [],
   "source": [
    "def baker(재료):\n",
    "    # 빵 재료가 적절한지 확인\n",
    "    if 재료 in ['모카', '아몬드', '밀', '통밀']:\n",
    "        빵 = 재료 + '빵'\n",
    "        return 빵        \n",
    "    \n",
    "    # 적절한 재료가 아닌 경우\n",
    "    else:\n",
    "        print(재료 + '는 이상한 재료입니다!')\n",
    "        return None"
   ]
  },
  {
   "cell_type": "code",
   "execution_count": 10,
   "metadata": {},
   "outputs": [
    {
     "data": {
      "text/plain": [
       "'통밀빵'"
      ]
     },
     "execution_count": 10,
     "metadata": {},
     "output_type": "execute_result"
    }
   ],
   "source": [
    "baker('통밀')"
   ]
  },
  {
   "cell_type": "code",
   "execution_count": 11,
   "metadata": {},
   "outputs": [
    {
     "name": "stdout",
     "output_type": "stream",
     "text": [
      "성주는 이상한 재료입니다!\n"
     ]
    }
   ],
   "source": [
    "baker('성주')"
   ]
  },
  {
   "cell_type": "markdown",
   "metadata": {},
   "source": [
    "#### return\n",
    "\n",
    "return을 하면, 즉시 종료가 됩니다. 여러 개도 가능합니다."
   ]
  },
  {
   "cell_type": "code",
   "execution_count": 12,
   "metadata": {
    "collapsed": true
   },
   "outputs": [],
   "source": [
    "def 휴게소(배고픔):\n",
    "    if 배고픔 > 8:\n",
    "        return '만남의 광장'\n",
    "    elif 배고픔 > 5:\n",
    "        return '천안'\n",
    "    elif 배고픔 > 2:\n",
    "        return '대전'\n",
    "    else:\n",
    "        return '부산'"
   ]
  },
  {
   "cell_type": "code",
   "execution_count": 13,
   "metadata": {},
   "outputs": [
    {
     "data": {
      "text/plain": [
       "'부산'"
      ]
     },
     "execution_count": 13,
     "metadata": {},
     "output_type": "execute_result"
    }
   ],
   "source": [
    "휴게소(1)"
   ]
  },
  {
   "cell_type": "markdown",
   "metadata": {},
   "source": [
    "#### 괄호 정리\n",
    "\n",
    "괄호가 구별되면, 의미가 다릅니다.\n",
    "\n",
    "* 기능명(...): 기능을 (*실행*)\n",
    "* 여러가지[색인]: 여러 가지를 담은 무언가를 [*선택*]\n",
    "\n",
    "같은 괄호라도 맥락에 따라 의미가 다를 수 있습니다.\n",
    "\n",
    "* [1,2,3][1]: 리스트를 [생성], 리스트에서 [선택]\n",
    "* print(...): print 함수를 (실행)\n",
    "* (경도, 위도): 경도와 위도 두 개의 값을 담은 (튜플) 생성"
   ]
  },
  {
   "cell_type": "markdown",
   "metadata": {},
   "source": [
    "\"리스트에서 1번 색인을 [선택]\""
   ]
  },
  {
   "cell_type": "code",
   "execution_count": 14,
   "metadata": {},
   "outputs": [
    {
     "data": {
      "text/plain": [
       "2"
      ]
     },
     "execution_count": 14,
     "metadata": {},
     "output_type": "execute_result"
    }
   ],
   "source": [
    "[1,2,3][1]"
   ]
  },
  {
   "cell_type": "code",
   "execution_count": 15,
   "metadata": {},
   "outputs": [
    {
     "name": "stdout",
     "output_type": "stream",
     "text": [
      "hello\n"
     ]
    }
   ],
   "source": [
    "print('hello')"
   ]
  },
  {
   "cell_type": "markdown",
   "metadata": {},
   "source": [
    "번역을 해 보면, 이상합니다.\n",
    "\n",
    "\"print라는 기능에 대해 \"출력\"이라는 항목을 선택\"?"
   ]
  },
  {
   "cell_type": "code",
   "execution_count": 16,
   "metadata": {},
   "outputs": [
    {
     "ename": "TypeError",
     "evalue": "'builtin_function_or_method' object is not subscriptable",
     "output_type": "error",
     "traceback": [
      "\u001b[0;31m---------------------------------------------------------------------------\u001b[0m",
      "\u001b[0;31mTypeError\u001b[0m                                 Traceback (most recent call last)",
      "\u001b[0;32m<ipython-input-16-4c660eb6b451>\u001b[0m in \u001b[0;36m<module>\u001b[0;34m()\u001b[0m\n\u001b[0;32m----> 1\u001b[0;31m \u001b[0mprint\u001b[0m\u001b[0;34m[\u001b[0m\u001b[0;34m'hello'\u001b[0m\u001b[0;34m]\u001b[0m\u001b[0;34m\u001b[0m\u001b[0m\n\u001b[0m",
      "\u001b[0;31mTypeError\u001b[0m: 'builtin_function_or_method' object is not subscriptable"
     ]
    }
   ],
   "source": [
    "print['hello']"
   ]
  },
  {
   "cell_type": "markdown",
   "metadata": {},
   "source": [
    "준비된 기능 활용하기"
   ]
  },
  {
   "cell_type": "code",
   "execution_count": 17,
   "metadata": {
    "collapsed": true
   },
   "outputs": [],
   "source": [
    "import random"
   ]
  },
  {
   "cell_type": "code",
   "execution_count": 18,
   "metadata": {},
   "outputs": [
    {
     "data": {
      "text/plain": [
       "6"
      ]
     },
     "execution_count": 18,
     "metadata": {},
     "output_type": "execute_result"
    }
   ],
   "source": [
    "random.randint(1,6)"
   ]
  },
  {
   "cell_type": "code",
   "execution_count": 19,
   "metadata": {},
   "outputs": [
    {
     "data": {
      "text/plain": [
       "[0, 1, 2, 3, 4, 5, 6, 7, 8, 9]"
      ]
     },
     "execution_count": 19,
     "metadata": {},
     "output_type": "execute_result"
    }
   ],
   "source": [
    "numbers = list(range(10))\n",
    "numbers"
   ]
  },
  {
   "cell_type": "code",
   "execution_count": 20,
   "metadata": {},
   "outputs": [
    {
     "data": {
      "text/plain": [
       "[1, 4, 6, 7, 8, 3, 2, 0, 5, 9]"
      ]
     },
     "execution_count": 20,
     "metadata": {},
     "output_type": "execute_result"
    }
   ],
   "source": [
    "random.shuffle(numbers)\n",
    "numbers"
   ]
  },
  {
   "cell_type": "code",
   "execution_count": 21,
   "metadata": {
    "scrolled": true
   },
   "outputs": [
    {
     "data": {
      "text/plain": [
       "0"
      ]
     },
     "execution_count": 21,
     "metadata": {},
     "output_type": "execute_result"
    }
   ],
   "source": [
    "random.choice(numbers)"
   ]
  },
  {
   "cell_type": "markdown",
   "metadata": {},
   "source": [
    "#### 함수의 인자\n",
    "\n",
    "인자는 ( ) 안의 입력값을 의미합니다. \n",
    "\n",
    "* 0개 이상이 될 수 있습니다.\n",
    "* 기본값을 설정할 수 있습니다."
   ]
  },
  {
   "cell_type": "markdown",
   "metadata": {},
   "source": [
    "주사위 던지기"
   ]
  },
  {
   "cell_type": "code",
   "execution_count": 22,
   "metadata": {
    "collapsed": true
   },
   "outputs": [],
   "source": [
    "def roll(n=100):\n",
    "    count = 0\n",
    "    total = 0\n",
    "    while total < n:\n",
    "        face = random.randint(1, 6)\n",
    "        count += 1\n",
    "        total += face\n",
    "        \n",
    "    return (count, total)"
   ]
  },
  {
   "cell_type": "code",
   "execution_count": 23,
   "metadata": {},
   "outputs": [
    {
     "data": {
      "text/plain": [
       "(31, 103)"
      ]
     },
     "execution_count": 23,
     "metadata": {},
     "output_type": "execute_result"
    }
   ],
   "source": [
    "roll()"
   ]
  },
  {
   "cell_type": "code",
   "execution_count": 24,
   "metadata": {},
   "outputs": [
    {
     "data": {
      "text/plain": [
       "(291, 1003)"
      ]
     },
     "execution_count": 24,
     "metadata": {},
     "output_type": "execute_result"
    }
   ],
   "source": [
    "roll(1000)"
   ]
  },
  {
   "cell_type": "code",
   "execution_count": 25,
   "metadata": {},
   "outputs": [
    {
     "data": {
      "text/plain": [
       "(2868, 10002)"
      ]
     },
     "execution_count": 25,
     "metadata": {},
     "output_type": "execute_result"
    }
   ],
   "source": [
    "roll(10**4)"
   ]
  },
  {
   "cell_type": "markdown",
   "metadata": {},
   "source": [
    "deck 생성"
   ]
  },
  {
   "cell_type": "code",
   "execution_count": 26,
   "metadata": {
    "collapsed": true
   },
   "outputs": [],
   "source": [
    "def gen_deck(shuffle=True):\n",
    "    suits = ['spades', 'diamonds', 'clubs', 'hearts']\n",
    "    ranks = list(range(2,11)) + ['J', 'Q', 'K', 'A']\n",
    "    \n",
    "    deck = []\n",
    "    for s in suits:\n",
    "        for r in ranks:\n",
    "            card = [s, r]\n",
    "            deck.append(card)\n",
    "            \n",
    "    if shuffle:\n",
    "        random.shuffle(deck)\n",
    "    \n",
    "    return deck"
   ]
  },
  {
   "cell_type": "code",
   "execution_count": 27,
   "metadata": {
    "collapsed": true
   },
   "outputs": [],
   "source": [
    "deck = gen_deck()"
   ]
  },
  {
   "cell_type": "code",
   "execution_count": 28,
   "metadata": {},
   "outputs": [
    {
     "data": {
      "text/plain": [
       "[['clubs', 9],\n",
       " ['diamonds', 'Q'],\n",
       " ['hearts', 10],\n",
       " ['clubs', 5],\n",
       " ['clubs', 'K'],\n",
       " ['spades', 4],\n",
       " ['spades', 10],\n",
       " ['clubs', 'J'],\n",
       " ['hearts', 'A'],\n",
       " ['clubs', 6]]"
      ]
     },
     "execution_count": 28,
     "metadata": {},
     "output_type": "execute_result"
    }
   ],
   "source": [
    "deck[:10]"
   ]
  },
  {
   "cell_type": "markdown",
   "metadata": {},
   "source": [
    "포커 card의 계급 중에는 문자로 된 값들이 있습니다. J, Q, K, A를 각각 11부터 14의 숫자값으로 변환하는 함수를 작성합니다. 이 때, 2...10 범위의 계급은 그대로 숫자값이 나와야 합니다.\n",
    "\n",
    "예:\n",
    "\n",
    "card = ('hearts', 'J')  \n",
    "rank_to_num(card) --> 11\n",
    "\n",
    "card = ('클럽', 8)  \n",
    "rank_to_num(card) --> 8"
   ]
  },
  {
   "cell_type": "code",
   "execution_count": 29,
   "metadata": {
    "collapsed": true
   },
   "outputs": [],
   "source": [
    "def rank_to_num(card):\n",
    "    suit, rank = card\n",
    "    \n",
    "    if rank == 'J':\n",
    "        return 11\n",
    "    elif rank == 'Q':\n",
    "        return 12\n",
    "    elif rank == 'K':\n",
    "        return 13\n",
    "    elif rank == 'A':\n",
    "        return 14\n",
    "    else:\n",
    "        return rank"
   ]
  },
  {
   "cell_type": "code",
   "execution_count": 30,
   "metadata": {},
   "outputs": [
    {
     "data": {
      "text/plain": [
       "11"
      ]
     },
     "execution_count": 30,
     "metadata": {},
     "output_type": "execute_result"
    }
   ],
   "source": [
    "card = ['hearts', 'J']\n",
    "rank_to_num(card)"
   ]
  },
  {
   "cell_type": "code",
   "execution_count": 31,
   "metadata": {},
   "outputs": [
    {
     "data": {
      "text/plain": [
       "7"
      ]
     },
     "execution_count": 31,
     "metadata": {},
     "output_type": "execute_result"
    }
   ],
   "source": [
    "card = ('hearts', 7)\n",
    "rank_to_num(card)"
   ]
  },
  {
   "cell_type": "markdown",
   "metadata": {},
   "source": [
    "#### 블랙잭 게임\n",
    "\n",
    "포커 deck 52장을 무작위로 섞어 두 장을 뽑아 다음을 수행하는 프로그램을 작성합니다.\n",
    "\n",
    "* card 숫자의 합계가 21이면, \"블랙잭!\"을 출력하고 프로그램 종료\n",
    "* card 숫자의 합계가 21보다 크면, \"호갱님, 하우스는 언제나 이깁니다.\"를 출력하고, 종료\n",
    "* card 숫자의 합계가 21보다 작으면, 새로운 card를 한 장 더 받고, 승패 평가"
   ]
  },
  {
   "cell_type": "code",
   "execution_count": 32,
   "metadata": {},
   "outputs": [
    {
     "data": {
      "text/plain": [
       "[['diamonds', 'Q'], ['hearts', 'J']]"
      ]
     },
     "execution_count": 32,
     "metadata": {},
     "output_type": "execute_result"
    }
   ],
   "source": [
    "deck = gen_deck()\n",
    "hand = [deck.pop(), deck.pop()]\n",
    "hand"
   ]
  },
  {
   "cell_type": "code",
   "execution_count": 33,
   "metadata": {},
   "outputs": [
    {
     "data": {
      "text/plain": [
       "23"
      ]
     },
     "execution_count": 33,
     "metadata": {},
     "output_type": "execute_result"
    }
   ],
   "source": [
    "num_ranks = []\n",
    "for card in hand:\n",
    "    n = rank_to_num(card)\n",
    "    num_ranks.append(n)\n",
    "\n",
    "sum(num_ranks)"
   ]
  },
  {
   "cell_type": "code",
   "execution_count": 34,
   "metadata": {
    "collapsed": true
   },
   "outputs": [],
   "source": [
    "def blackjack():\n",
    "    deck = gen_deck(shuffle=True)\n",
    "    \n",
    "    hand = []\n",
    "    hand.append(deck.pop())\n",
    "    hand.append(deck.pop())\n",
    "    \n",
    "    rank_total = 0\n",
    "    while True:\n",
    "        for card in hand:\n",
    "            rank_total += rank_to_num(card)\n",
    "        \n",
    "        if rank_total == 21:\n",
    "            return ('Win', rank_total, hand)\n",
    "        elif rank_total > 21:\n",
    "            return ('Lose', rank_total, hand) \n",
    "        else:\n",
    "            hand.append(deck.pop())"
   ]
  },
  {
   "cell_type": "code",
   "execution_count": 35,
   "metadata": {},
   "outputs": [
    {
     "name": "stdout",
     "output_type": "stream",
     "text": [
      "('Lose', 45, [['diamonds', 10], ['diamonds', 7], ['spades', 'J']])\n"
     ]
    }
   ],
   "source": [
    "result = blackjack()\n",
    "print(result)"
   ]
  },
  {
   "cell_type": "code",
   "execution_count": 36,
   "metadata": {},
   "outputs": [
    {
     "name": "stdout",
     "output_type": "stream",
     "text": [
      "승률: 5.75%\n"
     ]
    }
   ],
   "source": [
    "game_counts = 10**5\n",
    "win_counts = 0\n",
    "for _ in range(game_counts):\n",
    "    result = blackjack()\n",
    "    if result[0] == 'Win':\n",
    "        win_counts += 1\n",
    "        \n",
    "print('승률: {:.2%}'.format(win_counts/game_counts))"
   ]
  },
  {
   "cell_type": "code",
   "execution_count": null,
   "metadata": {
    "collapsed": true
   },
   "outputs": [],
   "source": []
  }
 ],
 "metadata": {
  "anaconda-cloud": {},
  "kernelspec": {
   "display_name": "Python 3",
   "language": "python",
   "name": "python3"
  },
  "language_info": {
   "codemirror_mode": {
    "name": "ipython",
    "version": 3
   },
   "file_extension": ".py",
   "mimetype": "text/x-python",
   "name": "python",
   "nbconvert_exporter": "python",
   "pygments_lexer": "ipython3",
   "version": "3.5.2"
  }
 },
 "nbformat": 4,
 "nbformat_minor": 1
}
