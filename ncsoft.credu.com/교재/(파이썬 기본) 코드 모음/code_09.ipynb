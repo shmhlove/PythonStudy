{
 "cells": [
  {
   "cell_type": "markdown",
   "metadata": {},
   "source": [
    "#  파일 입출력 1: 파일 읽기"
   ]
  },
  {
   "cell_type": "code",
   "execution_count": 1,
   "metadata": {
    "collapsed": true
   },
   "outputs": [],
   "source": [
    "filepath = 'data/turing.txt'"
   ]
  },
  {
   "cell_type": "code",
   "execution_count": 2,
   "metadata": {},
   "outputs": [
    {
     "data": {
      "text/plain": [
       "<_io.TextIOWrapper name='data/turing.txt' mode='r' encoding='UTF-8'>"
      ]
     },
     "execution_count": 2,
     "metadata": {},
     "output_type": "execute_result"
    }
   ],
   "source": [
    "file = open(filepath)\n",
    "file"
   ]
  },
  {
   "cell_type": "code",
   "execution_count": 3,
   "metadata": {},
   "outputs": [
    {
     "name": "stdout",
     "output_type": "stream",
     "text": [
      "앨런 매티슨 튜링(영어: Alan Mathison Turing, OBE, FRS, 1912년 6월 23일 ~ 1954년 6월 7일)은 영국의 수학자, 암호학자, 논리학자이자 컴퓨터 과학의 선구적 인물이다. 알고리즘과 계산 개념을 튜링 기계라는 추상 모델을 통해 형식화함으로써 컴퓨터 과학의 발전에 지대한 공헌을 했다. 튜링 테스트의 고안으로도 유명하다. ACM에서 컴퓨터 과학에 중요한 업적을 남긴 사람들에게 매년 시상하는 튜링상은 그의 이름을 따 제정한 것이다. 이론 컴퓨터 과학과 인공지능 분야에 지대한 공헌을 했기 때문에 \"컴퓨터 과학의 아버지\"라고 불린다.\n",
      "튜링은 수학, 암호학, 생물학 등 많은 분야에서 다양한 연구 활동을 했지만, 특히 컴퓨터 과학 분야에 끼친 영향이 크기 때문에 컴퓨터 과학 및 전산학의 아버지라고 불린다. 그가 구상한 튜링 기계의 무한히 긴 띠는 컴퓨터의 메모리에, 기호를 읽는 기계는 컴퓨터의 중앙 처리 장치(CPU)에 비유할 수 있다. 또한 튜링 기계의 한 종류인 범용 튜링 기계는 프로그램을 내장해서 작동하는 현대의 컴퓨터를 많이 닮아 있다. 이외에도 콜로서스 개발에 간접적인 기여를 했다.\n",
      "계산기 학회(ACM)에서는 튜링의 공로를 기리기 위하여, 1966년부터 매년 컴퓨터 과학에 중요한 업적을 남긴 사람들한테 주는 튜링상을 제정하였다. 현재 튜링상은 컴퓨터 과학 분야의 노벨상이라고도 불린다. 또한 튜링 테스트를 통과하는 인공 지능에게는 뢰브너 상이 수여된다.\n",
      "애플 컴퓨터의 로고인 \"한 입 베어먹은 사과\"는 튜링을 연상시키지만, 애플 컴퓨터가 로고를 만들 때 튜링을 염두에 두고 만들었는지는 확실하지 않다. 현재 애플 컴퓨터에서는 로고의 모델이 뉴턴의 사과라고 주장한다.(애플 컴퓨터를 창립한 스티브 잡스도 뉴턴의 사과를 모델로 애플 컴퓨터를 창립했다고 한다.)\n",
      "\n"
     ]
    }
   ],
   "source": [
    "content = file.read()\n",
    "print(content)"
   ]
  },
  {
   "cell_type": "code",
   "execution_count": 4,
   "metadata": {
    "collapsed": true
   },
   "outputs": [],
   "source": [
    "file.close()"
   ]
  },
  {
   "cell_type": "markdown",
   "metadata": {},
   "source": [
    "닫은 파일은 다시 읽을 수 없다."
   ]
  },
  {
   "cell_type": "code",
   "execution_count": 5,
   "metadata": {},
   "outputs": [
    {
     "name": "stdout",
     "output_type": "stream",
     "text": [
      "file closed\n"
     ]
    }
   ],
   "source": [
    "if file.closed:\n",
    "    print('file closed')\n",
    "else:\n",
    "    print(file.read())"
   ]
  },
  {
   "cell_type": "markdown",
   "metadata": {},
   "source": [
    "### 한 줄씩 읽기"
   ]
  },
  {
   "cell_type": "code",
   "execution_count": 6,
   "metadata": {
    "collapsed": true
   },
   "outputs": [],
   "source": [
    "file = open(filepath)"
   ]
  },
  {
   "cell_type": "code",
   "execution_count": 7,
   "metadata": {},
   "outputs": [
    {
     "data": {
      "text/plain": [
       "'앨런 매티슨 튜링(영어: Alan Mathison Turing, OBE, FRS, 1912년 6월 23일 ~ 1954년 6월 7일)은 영국의 수학자, 암호학자, 논리학자이자 컴퓨터 과학의 선구적 인물이다. 알고리즘과 계산 개념을 튜링 기계라는 추상 모델을 통해 형식화함으로써 컴퓨터 과학의 발전에 지대한 공헌을 했다. 튜링 테스트의 고안으로도 유명하다. ACM에서 컴퓨터 과학에 중요한 업적을 남긴 사람들에게 매년 시상하는 튜링상은 그의 이름을 따 제정한 것이다. 이론 컴퓨터 과학과 인공지능 분야에 지대한 공헌을 했기 때문에 \"컴퓨터 과학의 아버지\"라고 불린다.\\n'"
      ]
     },
     "execution_count": 7,
     "metadata": {},
     "output_type": "execute_result"
    }
   ],
   "source": [
    "file.readline()"
   ]
  },
  {
   "cell_type": "code",
   "execution_count": 8,
   "metadata": {},
   "outputs": [
    {
     "data": {
      "text/plain": [
       "'튜링은 수학, 암호학, 생물학 등 많은 분야에서 다양한 연구 활동을 했지만, 특히 컴퓨터 과학 분야에 끼친 영향이 크기 때문에 컴퓨터 과학 및 전산학의 아버지라고 불린다. 그가 구상한 튜링 기계의 무한히 긴 띠는 컴퓨터의 메모리에, 기호를 읽는 기계는 컴퓨터의 중앙 처리 장치(CPU)에 비유할 수 있다. 또한 튜링 기계의 한 종류인 범용 튜링 기계는 프로그램을 내장해서 작동하는 현대의 컴퓨터를 많이 닮아 있다. 이외에도 콜로서스 개발에 간접적인 기여를 했다.\\n'"
      ]
     },
     "execution_count": 8,
     "metadata": {},
     "output_type": "execute_result"
    }
   ],
   "source": [
    "file.readline()"
   ]
  },
  {
   "cell_type": "code",
   "execution_count": 9,
   "metadata": {
    "collapsed": true
   },
   "outputs": [],
   "source": [
    "file.close()"
   ]
  },
  {
   "cell_type": "markdown",
   "metadata": {},
   "source": [
    "각 줄을 항목으로 갖는 리스트로 읽어오기"
   ]
  },
  {
   "cell_type": "code",
   "execution_count": 10,
   "metadata": {},
   "outputs": [
    {
     "data": {
      "text/plain": [
       "['앨런 매티슨 튜링(영어: Alan Mathison Turing, OBE, FRS, 1912년 6월 23일 ~ 1954년 6월 7일)은 영국의 수학자, 암호학자, 논리학자이자 컴퓨터 과학의 선구적 인물이다. 알고리즘과 계산 개념을 튜링 기계라는 추상 모델을 통해 형식화함으로써 컴퓨터 과학의 발전에 지대한 공헌을 했다. 튜링 테스트의 고안으로도 유명하다. ACM에서 컴퓨터 과학에 중요한 업적을 남긴 사람들에게 매년 시상하는 튜링상은 그의 이름을 따 제정한 것이다. 이론 컴퓨터 과학과 인공지능 분야에 지대한 공헌을 했기 때문에 \"컴퓨터 과학의 아버지\"라고 불린다.\\n',\n",
       " '튜링은 수학, 암호학, 생물학 등 많은 분야에서 다양한 연구 활동을 했지만, 특히 컴퓨터 과학 분야에 끼친 영향이 크기 때문에 컴퓨터 과학 및 전산학의 아버지라고 불린다. 그가 구상한 튜링 기계의 무한히 긴 띠는 컴퓨터의 메모리에, 기호를 읽는 기계는 컴퓨터의 중앙 처리 장치(CPU)에 비유할 수 있다. 또한 튜링 기계의 한 종류인 범용 튜링 기계는 프로그램을 내장해서 작동하는 현대의 컴퓨터를 많이 닮아 있다. 이외에도 콜로서스 개발에 간접적인 기여를 했다.\\n',\n",
       " '계산기 학회(ACM)에서는 튜링의 공로를 기리기 위하여, 1966년부터 매년 컴퓨터 과학에 중요한 업적을 남긴 사람들한테 주는 튜링상을 제정하였다. 현재 튜링상은 컴퓨터 과학 분야의 노벨상이라고도 불린다. 또한 튜링 테스트를 통과하는 인공 지능에게는 뢰브너 상이 수여된다.\\n',\n",
       " '애플 컴퓨터의 로고인 \"한 입 베어먹은 사과\"는 튜링을 연상시키지만, 애플 컴퓨터가 로고를 만들 때 튜링을 염두에 두고 만들었는지는 확실하지 않다. 현재 애플 컴퓨터에서는 로고의 모델이 뉴턴의 사과라고 주장한다.(애플 컴퓨터를 창립한 스티브 잡스도 뉴턴의 사과를 모델로 애플 컴퓨터를 창립했다고 한다.)\\n']"
      ]
     },
     "execution_count": 10,
     "metadata": {},
     "output_type": "execute_result"
    }
   ],
   "source": [
    "file = open(filepath)\n",
    "\n",
    "content = []\n",
    "while True:\n",
    "    line = file.readline()\n",
    "    if not line:\n",
    "        break\n",
    "    content.append(line)\n",
    "    \n",
    "file.close()\n",
    "\n",
    "content"
   ]
  },
  {
   "cell_type": "code",
   "execution_count": 11,
   "metadata": {
    "scrolled": true
   },
   "outputs": [
    {
     "data": {
      "text/plain": [
       "['앨런 매티슨 튜링(영어: Alan Mathison Turing, OBE, FRS, 1912년 6월 23일 ~ 1954년 6월 7일)은 영국의 수학자, 암호학자, 논리학자이자 컴퓨터 과학의 선구적 인물이다. 알고리즘과 계산 개념을 튜링 기계라는 추상 모델을 통해 형식화함으로써 컴퓨터 과학의 발전에 지대한 공헌을 했다. 튜링 테스트의 고안으로도 유명하다. ACM에서 컴퓨터 과학에 중요한 업적을 남긴 사람들에게 매년 시상하는 튜링상은 그의 이름을 따 제정한 것이다. 이론 컴퓨터 과학과 인공지능 분야에 지대한 공헌을 했기 때문에 \"컴퓨터 과학의 아버지\"라고 불린다.\\n',\n",
       " '튜링은 수학, 암호학, 생물학 등 많은 분야에서 다양한 연구 활동을 했지만, 특히 컴퓨터 과학 분야에 끼친 영향이 크기 때문에 컴퓨터 과학 및 전산학의 아버지라고 불린다. 그가 구상한 튜링 기계의 무한히 긴 띠는 컴퓨터의 메모리에, 기호를 읽는 기계는 컴퓨터의 중앙 처리 장치(CPU)에 비유할 수 있다. 또한 튜링 기계의 한 종류인 범용 튜링 기계는 프로그램을 내장해서 작동하는 현대의 컴퓨터를 많이 닮아 있다. 이외에도 콜로서스 개발에 간접적인 기여를 했다.\\n',\n",
       " '계산기 학회(ACM)에서는 튜링의 공로를 기리기 위하여, 1966년부터 매년 컴퓨터 과학에 중요한 업적을 남긴 사람들한테 주는 튜링상을 제정하였다. 현재 튜링상은 컴퓨터 과학 분야의 노벨상이라고도 불린다. 또한 튜링 테스트를 통과하는 인공 지능에게는 뢰브너 상이 수여된다.\\n',\n",
       " '애플 컴퓨터의 로고인 \"한 입 베어먹은 사과\"는 튜링을 연상시키지만, 애플 컴퓨터가 로고를 만들 때 튜링을 염두에 두고 만들었는지는 확실하지 않다. 현재 애플 컴퓨터에서는 로고의 모델이 뉴턴의 사과라고 주장한다.(애플 컴퓨터를 창립한 스티브 잡스도 뉴턴의 사과를 모델로 애플 컴퓨터를 창립했다고 한다.)\\n']"
      ]
     },
     "execution_count": 11,
     "metadata": {},
     "output_type": "execute_result"
    }
   ],
   "source": [
    "file = open(filepath)\n",
    "content = file.readlines()\n",
    "file.close()\n",
    "\n",
    "content"
   ]
  },
  {
   "cell_type": "markdown",
   "metadata": {},
   "source": [
    "각 줄을 반복하기"
   ]
  },
  {
   "cell_type": "code",
   "execution_count": 12,
   "metadata": {},
   "outputs": [
    {
     "name": "stdout",
     "output_type": "stream",
     "text": [
      "앨런 매티슨 튜링(영어: Alan Mathison Turing, OBE, FRS, 1912년 6월 23일 ~ 1954년 6월 7일)은 영국의 수학자, 암호학자, 논리학자이자 컴퓨터 과학의 선구적 인물이다. 알고리즘과 계산 개념을 튜링 기계라는 추상 모델을 통해 형식화함으로써 컴퓨터 과학의 발전에 지대한 공헌을 했다. 튜링 테스트의 고안으로도 유명하다. ACM에서 컴퓨터 과학에 중요한 업적을 남긴 사람들에게 매년 시상하는 튜링상은 그의 이름을 따 제정한 것이다. 이론 컴퓨터 과학과 인공지능 분야에 지대한 공헌을 했기 때문에 \"컴퓨터 과학의 아버지\"라고 불린다.\n",
      "\n",
      "튜링은 수학, 암호학, 생물학 등 많은 분야에서 다양한 연구 활동을 했지만, 특히 컴퓨터 과학 분야에 끼친 영향이 크기 때문에 컴퓨터 과학 및 전산학의 아버지라고 불린다. 그가 구상한 튜링 기계의 무한히 긴 띠는 컴퓨터의 메모리에, 기호를 읽는 기계는 컴퓨터의 중앙 처리 장치(CPU)에 비유할 수 있다. 또한 튜링 기계의 한 종류인 범용 튜링 기계는 프로그램을 내장해서 작동하는 현대의 컴퓨터를 많이 닮아 있다. 이외에도 콜로서스 개발에 간접적인 기여를 했다.\n",
      "\n",
      "계산기 학회(ACM)에서는 튜링의 공로를 기리기 위하여, 1966년부터 매년 컴퓨터 과학에 중요한 업적을 남긴 사람들한테 주는 튜링상을 제정하였다. 현재 튜링상은 컴퓨터 과학 분야의 노벨상이라고도 불린다. 또한 튜링 테스트를 통과하는 인공 지능에게는 뢰브너 상이 수여된다.\n",
      "\n",
      "애플 컴퓨터의 로고인 \"한 입 베어먹은 사과\"는 튜링을 연상시키지만, 애플 컴퓨터가 로고를 만들 때 튜링을 염두에 두고 만들었는지는 확실하지 않다. 현재 애플 컴퓨터에서는 로고의 모델이 뉴턴의 사과라고 주장한다.(애플 컴퓨터를 창립한 스티브 잡스도 뉴턴의 사과를 모델로 애플 컴퓨터를 창립했다고 한다.)\n",
      "\n"
     ]
    }
   ],
   "source": [
    "for line in content:\n",
    "    print(line)"
   ]
  },
  {
   "cell_type": "code",
   "execution_count": 13,
   "metadata": {},
   "outputs": [
    {
     "name": "stdout",
     "output_type": "stream",
     "text": [
      "앨런 매티슨 튜링(영어: Alan Mathison Turing, OBE, FRS, 1912년 6월 23일 ~ 1954년 6월 7일)은 영국의 수학자, 암호학자, 논리학자이자 컴퓨터 과학의 선구적 인물이다. 알고리즘과 계산 개념을 튜링 기계라는 추상 모델을 통해 형식화함으로써 컴퓨터 과학의 발전에 지대한 공헌을 했다. 튜링 테스트의 고안으로도 유명하다. ACM에서 컴퓨터 과학에 중요한 업적을 남긴 사람들에게 매년 시상하는 튜링상은 그의 이름을 따 제정한 것이다. 이론 컴퓨터 과학과 인공지능 분야에 지대한 공헌을 했기 때문에 \"컴퓨터 과학의 아버지\"라고 불린다.\n",
      "\n",
      "튜링은 수학, 암호학, 생물학 등 많은 분야에서 다양한 연구 활동을 했지만, 특히 컴퓨터 과학 분야에 끼친 영향이 크기 때문에 컴퓨터 과학 및 전산학의 아버지라고 불린다. 그가 구상한 튜링 기계의 무한히 긴 띠는 컴퓨터의 메모리에, 기호를 읽는 기계는 컴퓨터의 중앙 처리 장치(CPU)에 비유할 수 있다. 또한 튜링 기계의 한 종류인 범용 튜링 기계는 프로그램을 내장해서 작동하는 현대의 컴퓨터를 많이 닮아 있다. 이외에도 콜로서스 개발에 간접적인 기여를 했다.\n",
      "\n",
      "계산기 학회(ACM)에서는 튜링의 공로를 기리기 위하여, 1966년부터 매년 컴퓨터 과학에 중요한 업적을 남긴 사람들한테 주는 튜링상을 제정하였다. 현재 튜링상은 컴퓨터 과학 분야의 노벨상이라고도 불린다. 또한 튜링 테스트를 통과하는 인공 지능에게는 뢰브너 상이 수여된다.\n",
      "\n",
      "애플 컴퓨터의 로고인 \"한 입 베어먹은 사과\"는 튜링을 연상시키지만, 애플 컴퓨터가 로고를 만들 때 튜링을 염두에 두고 만들었는지는 확실하지 않다. 현재 애플 컴퓨터에서는 로고의 모델이 뉴턴의 사과라고 주장한다.(애플 컴퓨터를 창립한 스티브 잡스도 뉴턴의 사과를 모델로 애플 컴퓨터를 창립했다고 한다.)\n",
      "\n"
     ]
    }
   ],
   "source": [
    "file = open(filepath)\n",
    "for line in file:\n",
    "    print(line)\n",
    "    \n",
    "file.close()"
   ]
  },
  {
   "cell_type": "markdown",
   "metadata": {},
   "source": [
    "줄바꿈 문자 제거"
   ]
  },
  {
   "cell_type": "code",
   "execution_count": 14,
   "metadata": {},
   "outputs": [
    {
     "data": {
      "text/plain": [
       "'안녕하세요'"
      ]
     },
     "execution_count": 14,
     "metadata": {},
     "output_type": "execute_result"
    }
   ],
   "source": [
    "line = '   안녕하세요 \\n\\n\\n'\n",
    "line.strip()"
   ]
  },
  {
   "cell_type": "code",
   "execution_count": 15,
   "metadata": {},
   "outputs": [
    {
     "name": "stdout",
     "output_type": "stream",
     "text": [
      "앨런 매티슨 튜링(영어: Alan Mathison Turing, OBE, FRS, 1912년 6월 23일 ~ 1954년 6월 7일)은 영국의 수학자, 암호학자, 논리학자이자 컴퓨터 과학의 선구적 인물이다. 알고리즘과 계산 개념을 튜링 기계라는 추상 모델을 통해 형식화함으로써 컴퓨터 과학의 발전에 지대한 공헌을 했다. 튜링 테스트의 고안으로도 유명하다. ACM에서 컴퓨터 과학에 중요한 업적을 남긴 사람들에게 매년 시상하는 튜링상은 그의 이름을 따 제정한 것이다. 이론 컴퓨터 과학과 인공지능 분야에 지대한 공헌을 했기 때문에 \"컴퓨터 과학의 아버지\"라고 불린다.\n",
      "튜링은 수학, 암호학, 생물학 등 많은 분야에서 다양한 연구 활동을 했지만, 특히 컴퓨터 과학 분야에 끼친 영향이 크기 때문에 컴퓨터 과학 및 전산학의 아버지라고 불린다. 그가 구상한 튜링 기계의 무한히 긴 띠는 컴퓨터의 메모리에, 기호를 읽는 기계는 컴퓨터의 중앙 처리 장치(CPU)에 비유할 수 있다. 또한 튜링 기계의 한 종류인 범용 튜링 기계는 프로그램을 내장해서 작동하는 현대의 컴퓨터를 많이 닮아 있다. 이외에도 콜로서스 개발에 간접적인 기여를 했다.\n",
      "계산기 학회(ACM)에서는 튜링의 공로를 기리기 위하여, 1966년부터 매년 컴퓨터 과학에 중요한 업적을 남긴 사람들한테 주는 튜링상을 제정하였다. 현재 튜링상은 컴퓨터 과학 분야의 노벨상이라고도 불린다. 또한 튜링 테스트를 통과하는 인공 지능에게는 뢰브너 상이 수여된다.\n",
      "애플 컴퓨터의 로고인 \"한 입 베어먹은 사과\"는 튜링을 연상시키지만, 애플 컴퓨터가 로고를 만들 때 튜링을 염두에 두고 만들었는지는 확실하지 않다. 현재 애플 컴퓨터에서는 로고의 모델이 뉴턴의 사과라고 주장한다.(애플 컴퓨터를 창립한 스티브 잡스도 뉴턴의 사과를 모델로 애플 컴퓨터를 창립했다고 한다.)\n"
     ]
    }
   ],
   "source": [
    "file = open(filepath)\n",
    "for line in file:\n",
    "    line = line.strip()\n",
    "    print(line)\n",
    "\n",
    "file.close()"
   ]
  },
  {
   "cell_type": "markdown",
   "metadata": {},
   "source": [
    "## 파일 커서 (cursor)\n",
    "\n",
    "read()를 수행하면 파일읽기의 시작지점, 즉 커서가 파일의 끝으로 진행된다."
   ]
  },
  {
   "cell_type": "markdown",
   "metadata": {},
   "source": [
    "파일 커서가 파일 끝 (EOF)로 이동"
   ]
  },
  {
   "cell_type": "code",
   "execution_count": 16,
   "metadata": {},
   "outputs": [
    {
     "name": "stdout",
     "output_type": "stream",
     "text": [
      "0\n",
      "2098\n"
     ]
    }
   ],
   "source": [
    "file = open(filepath)\n",
    "cursor = file.tell()\n",
    "print(cursor)\n",
    "file.read()\n",
    "cursor = file.tell()\n",
    "print(cursor)"
   ]
  },
  {
   "cell_type": "markdown",
   "metadata": {},
   "source": [
    "파일 끝 (EOF)의 값은 파일의 크기와 같다."
   ]
  },
  {
   "cell_type": "code",
   "execution_count": 17,
   "metadata": {},
   "outputs": [
    {
     "data": {
      "text/plain": [
       "2098"
      ]
     },
     "execution_count": 17,
     "metadata": {},
     "output_type": "execute_result"
    }
   ],
   "source": [
    "import os\n",
    "os.path.getsize(filepath)"
   ]
  },
  {
   "cell_type": "markdown",
   "metadata": {},
   "source": [
    "커서 위치 지정"
   ]
  },
  {
   "cell_type": "code",
   "execution_count": 18,
   "metadata": {},
   "outputs": [
    {
     "name": "stdout",
     "output_type": "stream",
     "text": [
      "cursor: 2098\n",
      "\n"
     ]
    },
    {
     "data": {
      "text/plain": [
       "True"
      ]
     },
     "execution_count": 18,
     "metadata": {},
     "output_type": "execute_result"
    }
   ],
   "source": [
    "file = open(filepath)\n",
    "file.read()\n",
    "print('cursor: {}'.format(file.tell()))\n",
    "content = file.read()\n",
    "print(content)\n",
    "\n",
    "content == ''"
   ]
  },
  {
   "cell_type": "code",
   "execution_count": 19,
   "metadata": {
    "scrolled": false
   },
   "outputs": [
    {
     "name": "stdout",
     "output_type": "stream",
     "text": [
      "cursor: 17\n",
      "튜링(영어: Alan Mathison Turing, OBE, FRS, 1912년 6월 23일 ~ 1954년 6월 7일)은 영국의 수학자, 암호학자, 논리학자이자 컴퓨터 과학의 선구적 인물이다. 알고리즘과 계산 개념을 튜링 기계라는 추상 모델을 통해 형식화함으로써 컴퓨터 과학의 발전에 지대한 공헌을 했다. 튜링 테스트의 고안으로도 유명하다. ACM에서 컴퓨터 과학에 중요한 업적을 남긴 사람들에게 매년 시상하는 튜링상은 그의 이름을 따 제정한 것이다. 이론 컴퓨터 과학과 인공지능 분야에 지대한 공헌을 했기 때문에 \"컴퓨터 과학의 아버지\"라고 불린다.\n",
      "튜링은 수학, 암호학, 생물학 등 많은 분야에서 다양한 연구 활동을 했지만, 특히 컴퓨터 과학 분야에 끼친 영향이 크기 때문에 컴퓨터 과학 및 전산학의 아버지라고 불린다. 그가 구상한 튜링 기계의 무한히 긴 띠는 컴퓨터의 메모리에, 기호를 읽는 기계는 컴퓨터의 중앙 처리 장치(CPU)에 비유할 수 있다. 또한 튜링 기계의 한 종류인 범용 튜링 기계는 프로그램을 내장해서 작동하는 현대의 컴퓨터를 많이 닮아 있다. 이외에도 콜로서스 개발에 간접적인 기여를 했다.\n",
      "계산기 학회(ACM)에서는 튜링의 공로를 기리기 위하여, 1966년부터 매년 컴퓨터 과학에 중요한 업적을 남긴 사람들한테 주는 튜링상을 제정하였다. 현재 튜링상은 컴퓨터 과학 분야의 노벨상이라고도 불린다. 또한 튜링 테스트를 통과하는 인공 지능에게는 뢰브너 상이 수여된다.\n",
      "애플 컴퓨터의 로고인 \"한 입 베어먹은 사과\"는 튜링을 연상시키지만, 애플 컴퓨터가 로고를 만들 때 튜링을 염두에 두고 만들었는지는 확실하지 않다. 현재 애플 컴퓨터에서는 로고의 모델이 뉴턴의 사과라고 주장한다.(애플 컴퓨터를 창립한 스티브 잡스도 뉴턴의 사과를 모델로 애플 컴퓨터를 창립했다고 한다.)\n",
      "\n"
     ]
    }
   ],
   "source": [
    "file.seek(17)\n",
    "print('cursor: {}'.format(file.tell()))\n",
    "\n",
    "content = file.read()\n",
    "print(content)"
   ]
  },
  {
   "cell_type": "markdown",
   "metadata": {},
   "source": [
    "자동으로 close"
   ]
  },
  {
   "cell_type": "code",
   "execution_count": 20,
   "metadata": {},
   "outputs": [
    {
     "name": "stdout",
     "output_type": "stream",
     "text": [
      "앨런 매티슨 튜링(영어: Alan Mathison Turing, OBE, FRS, 1912년 6월 23일 ~ 1954년 6월 7일)은 영국의 수학자, 암호학자, 논리학자이자 컴퓨터 과학의 선구적 인물이다. 알고리즘과 계산 개념을 튜링 기계라는 추상 모델을 통해 형식화함으로써 컴퓨터 과학의 발전에 지대한 공헌을 했다. 튜링 테스트의 고안으로도 유명하다. ACM에서 컴퓨터 과학에 중요한 업적을 남긴 사람들에게 매년 시상하는 튜링상은 그의 이름을 따 제정한 것이다. 이론 컴퓨터 과학과 인공지능 분야에 지대한 공헌을 했기 때문에 \"컴퓨터 과학의 아버지\"라고 불린다.\n",
      "튜링은 수학, 암호학, 생물학 등 많은 분야에서 다양한 연구 활동을 했지만, 특히 컴퓨터 과학 분야에 끼친 영향이 크기 때문에 컴퓨터 과학 및 전산학의 아버지라고 불린다. 그가 구상한 튜링 기계의 무한히 긴 띠는 컴퓨터의 메모리에, 기호를 읽는 기계는 컴퓨터의 중앙 처리 장치(CPU)에 비유할 수 있다. 또한 튜링 기계의 한 종류인 범용 튜링 기계는 프로그램을 내장해서 작동하는 현대의 컴퓨터를 많이 닮아 있다. 이외에도 콜로서스 개발에 간접적인 기여를 했다.\n",
      "계산기 학회(ACM)에서는 튜링의 공로를 기리기 위하여, 1966년부터 매년 컴퓨터 과학에 중요한 업적을 남긴 사람들한테 주는 튜링상을 제정하였다. 현재 튜링상은 컴퓨터 과학 분야의 노벨상이라고도 불린다. 또한 튜링 테스트를 통과하는 인공 지능에게는 뢰브너 상이 수여된다.\n",
      "애플 컴퓨터의 로고인 \"한 입 베어먹은 사과\"는 튜링을 연상시키지만, 애플 컴퓨터가 로고를 만들 때 튜링을 염두에 두고 만들었는지는 확실하지 않다. 현재 애플 컴퓨터에서는 로고의 모델이 뉴턴의 사과라고 주장한다.(애플 컴퓨터를 창립한 스티브 잡스도 뉴턴의 사과를 모델로 애플 컴퓨터를 창립했다고 한다.)\n",
      "\n",
      "True\n"
     ]
    }
   ],
   "source": [
    "with open(filepath) as file:\n",
    "    content = file.read()\n",
    "    print(content)\n",
    "    \n",
    "print(file.closed)"
   ]
  },
  {
   "cell_type": "markdown",
   "metadata": {},
   "source": [
    "## 인코딩 "
   ]
  },
  {
   "cell_type": "code",
   "execution_count": 21,
   "metadata": {},
   "outputs": [
    {
     "name": "stdout",
     "output_type": "stream",
     "text": [
      "Encoding: UTF-8\n",
      "앨런 매티슨 튜링(영어: Alan Mathison Turing, OBE, FRS, 1912년 6월 23일 ~ 1954년 6월 7일)은 영국의 수학자, 암호학자, 논리학자이자 컴퓨터 과학의 선구적 인물이다. 알고리즘과 계산 개념을 튜링 기계라는 추상 모델을 통해 형식화함으로써 컴퓨터 과학의 발전에 지대한 공헌을 했다. 튜링 테스트의 고안으로도 유명하다. ACM에서 컴퓨터 과학에 중요한 업적을 남긴 사람들에게 매년 시상하는 튜링상은 그의 이름을 따 제정한 것이다. 이론 컴퓨터 과학과 인공지능 분야에 지대한 공헌을 했기 때문에 \"컴퓨터 과학의 아버지\"라고 불린다.\n",
      "\n"
     ]
    }
   ],
   "source": [
    "with open(filepath) as file:\n",
    "    print('Encoding: {}'.format(file.encoding))\n",
    "    print(file.readline())"
   ]
  },
  {
   "cell_type": "markdown",
   "metadata": {},
   "source": [
    "한글 윈도우 메모장 기본 인코딩 적용 파일"
   ]
  },
  {
   "cell_type": "code",
   "execution_count": 22,
   "metadata": {
    "collapsed": true
   },
   "outputs": [],
   "source": [
    "filepath = 'data/turing-cp949.txt'"
   ]
  },
  {
   "cell_type": "code",
   "execution_count": 23,
   "metadata": {},
   "outputs": [
    {
     "name": "stdout",
     "output_type": "stream",
     "text": [
      "Encoding: UTF-8\n"
     ]
    },
    {
     "ename": "UnicodeDecodeError",
     "evalue": "'utf-8' codec can't decode byte 0xbe in position 0: invalid start byte",
     "output_type": "error",
     "traceback": [
      "\u001b[0;31m---------------------------------------------------------------------------\u001b[0m",
      "\u001b[0;31mUnicodeDecodeError\u001b[0m                        Traceback (most recent call last)",
      "\u001b[0;32m<ipython-input-23-ef47ad805607>\u001b[0m in \u001b[0;36m<module>\u001b[0;34m()\u001b[0m\n\u001b[1;32m      1\u001b[0m \u001b[0;32mwith\u001b[0m \u001b[0mopen\u001b[0m\u001b[0;34m(\u001b[0m\u001b[0mfilepath\u001b[0m\u001b[0;34m)\u001b[0m \u001b[0;32mas\u001b[0m \u001b[0mfile\u001b[0m\u001b[0;34m:\u001b[0m\u001b[0;34m\u001b[0m\u001b[0m\n\u001b[1;32m      2\u001b[0m     \u001b[0mprint\u001b[0m\u001b[0;34m(\u001b[0m\u001b[0;34m'Encoding: {}'\u001b[0m\u001b[0;34m.\u001b[0m\u001b[0mformat\u001b[0m\u001b[0;34m(\u001b[0m\u001b[0mfile\u001b[0m\u001b[0;34m.\u001b[0m\u001b[0mencoding\u001b[0m\u001b[0;34m)\u001b[0m\u001b[0;34m)\u001b[0m\u001b[0;34m\u001b[0m\u001b[0m\n\u001b[0;32m----> 3\u001b[0;31m     \u001b[0mprint\u001b[0m\u001b[0;34m(\u001b[0m\u001b[0mfile\u001b[0m\u001b[0;34m.\u001b[0m\u001b[0mreadline\u001b[0m\u001b[0;34m(\u001b[0m\u001b[0;34m)\u001b[0m\u001b[0;34m)\u001b[0m\u001b[0;34m\u001b[0m\u001b[0m\n\u001b[0m",
      "\u001b[0;32m/Users/seongjoo/anaconda/lib/python3.5/codecs.py\u001b[0m in \u001b[0;36mdecode\u001b[0;34m(self, input, final)\u001b[0m\n\u001b[1;32m    319\u001b[0m         \u001b[0;31m# decode input (taking the buffer into account)\u001b[0m\u001b[0;34m\u001b[0m\u001b[0;34m\u001b[0m\u001b[0m\n\u001b[1;32m    320\u001b[0m         \u001b[0mdata\u001b[0m \u001b[0;34m=\u001b[0m \u001b[0mself\u001b[0m\u001b[0;34m.\u001b[0m\u001b[0mbuffer\u001b[0m \u001b[0;34m+\u001b[0m \u001b[0minput\u001b[0m\u001b[0;34m\u001b[0m\u001b[0m\n\u001b[0;32m--> 321\u001b[0;31m         \u001b[0;34m(\u001b[0m\u001b[0mresult\u001b[0m\u001b[0;34m,\u001b[0m \u001b[0mconsumed\u001b[0m\u001b[0;34m)\u001b[0m \u001b[0;34m=\u001b[0m \u001b[0mself\u001b[0m\u001b[0;34m.\u001b[0m\u001b[0m_buffer_decode\u001b[0m\u001b[0;34m(\u001b[0m\u001b[0mdata\u001b[0m\u001b[0;34m,\u001b[0m \u001b[0mself\u001b[0m\u001b[0;34m.\u001b[0m\u001b[0merrors\u001b[0m\u001b[0;34m,\u001b[0m \u001b[0mfinal\u001b[0m\u001b[0;34m)\u001b[0m\u001b[0;34m\u001b[0m\u001b[0m\n\u001b[0m\u001b[1;32m    322\u001b[0m         \u001b[0;31m# keep undecoded input until the next call\u001b[0m\u001b[0;34m\u001b[0m\u001b[0;34m\u001b[0m\u001b[0m\n\u001b[1;32m    323\u001b[0m         \u001b[0mself\u001b[0m\u001b[0;34m.\u001b[0m\u001b[0mbuffer\u001b[0m \u001b[0;34m=\u001b[0m \u001b[0mdata\u001b[0m\u001b[0;34m[\u001b[0m\u001b[0mconsumed\u001b[0m\u001b[0;34m:\u001b[0m\u001b[0;34m]\u001b[0m\u001b[0;34m\u001b[0m\u001b[0m\n",
      "\u001b[0;31mUnicodeDecodeError\u001b[0m: 'utf-8' codec can't decode byte 0xbe in position 0: invalid start byte"
     ]
    }
   ],
   "source": [
    "with open(filepath) as file:\n",
    "    print('Encoding: {}'.format(file.encoding))\n",
    "    print(file.readline())"
   ]
  },
  {
   "cell_type": "code",
   "execution_count": 24,
   "metadata": {},
   "outputs": [
    {
     "name": "stdout",
     "output_type": "stream",
     "text": [
      "Encoding: cp949\n",
      "앨런 매티슨 튜링(영어: Alan Mathison Turing, OBE, FRS, 1912년 6월 23일 ~ 1954년 6월 7일)은 영국의 수학자, 암호학자, 논리학자이자 컴퓨터 과학의 선구적 인물이다. 알고리즘과 계산 개념을 튜링 기계라는 추상 모델을 통해 형식화함으로써 컴퓨터 과학의 발전에 지대한 공헌을 했다. 튜링 테스트의 고안으로도 유명하다. ACM에서 컴퓨터 과학에 중요한 업적을 남긴 사람들에게 매년 시상하는 튜링상은 그의 이름을 따 제정한 것이다. 이론 컴퓨터 과학과 인공지능 분야에 지대한 공헌을 했기 때문에 \"컴퓨터 과학의 아버지\"라고 불린다.\n",
      "\n"
     ]
    }
   ],
   "source": [
    "with open(filepath, encoding='cp949') as file:\n",
    "    print('Encoding: {}'.format(file.encoding))\n",
    "    print(file.readline())"
   ]
  },
  {
   "cell_type": "markdown",
   "metadata": {},
   "source": [
    "## 파일 데이터 처리 사례"
   ]
  },
  {
   "cell_type": "code",
   "execution_count": 25,
   "metadata": {},
   "outputs": [
    {
     "name": "stdout",
     "output_type": "stream",
     "text": [
      "이름,건수\n",
      "하준,1170\n",
      "서준,1155\n",
      "민준,1124\n",
      "주원,1037\n",
      "도윤,1030\n",
      "예준,959\n",
      "지호,950\n",
      "준우,833\n",
      "시우,815\n",
      "서진,777\n",
      "지후,750\n",
      "우진,662\n",
      "선우,655\n",
      "준서,652\n",
      "현우,644\n",
      "도현,621\n",
      "유준,611\n",
      "연우,560\n",
      "이안,555\n",
      "지훈,553\n",
      "기타,71626\n"
     ]
    }
   ],
   "source": [
    "filepath = 'data/names_2015_2016_boy.csv'\n",
    "\n",
    "with open(filepath, encoding='utf8') as boy_names:\n",
    "    for line in boy_names:\n",
    "        print(line.strip())"
   ]
  },
  {
   "cell_type": "code",
   "execution_count": 26,
   "metadata": {},
   "outputs": [
    {
     "name": "stdout",
     "output_type": "stream",
     "text": [
      "1)\t하준 (1170)\n",
      "2)\t서준 (1155)\n",
      "3)\t민준 (1124)\n",
      "4)\t주원 (1037)\n",
      "5)\t도윤 (1030)\n",
      "6)\t예준 (959)\n",
      "7)\t지호 (950)\n",
      "8)\t준우 (833)\n",
      "9)\t시우 (815)\n",
      "10)\t서진 (777)\n",
      "11)\t지후 (750)\n",
      "12)\t우진 (662)\n",
      "13)\t선우 (655)\n",
      "14)\t준서 (652)\n",
      "15)\t현우 (644)\n",
      "16)\t도현 (621)\n",
      "17)\t유준 (611)\n",
      "18)\t연우 (560)\n",
      "19)\t이안 (555)\n",
      "20)\t지훈 (553)\n",
      "21)\t기타 (71626)\n"
     ]
    }
   ],
   "source": [
    "with open(filepath, encoding='utf8') as boy_names:\n",
    "    for entry_id, line in enumerate(boy_names):\n",
    "        if entry_id == 0:\n",
    "            continue\n",
    "\n",
    "        line = line.strip()\n",
    "        name, count = line.split(',')\n",
    "        print('{0})\\t{1} ({2})'.format(entry_id, name, count))"
   ]
  },
  {
   "cell_type": "code",
   "execution_count": 27,
   "metadata": {},
   "outputs": [
    {
     "data": {
      "text/plain": [
       "[('하준', 1170),\n",
       " ('서준', 1155),\n",
       " ('민준', 1124),\n",
       " ('주원', 1037),\n",
       " ('도윤', 1030),\n",
       " ('예준', 959),\n",
       " ('지호', 950),\n",
       " ('준우', 833),\n",
       " ('시우', 815),\n",
       " ('서진', 777),\n",
       " ('지후', 750),\n",
       " ('우진', 662),\n",
       " ('선우', 655),\n",
       " ('준서', 652),\n",
       " ('현우', 644),\n",
       " ('도현', 621),\n",
       " ('유준', 611),\n",
       " ('연우', 560),\n",
       " ('이안', 555),\n",
       " ('지훈', 553),\n",
       " ('기타', 71626)]"
      ]
     },
     "execution_count": 27,
     "metadata": {},
     "output_type": "execute_result"
    }
   ],
   "source": [
    "with open(filepath, encoding='utf8') as boy_names:\n",
    "    boy_names_stats = []\n",
    "    for entry_id, line in enumerate(boy_names):\n",
    "        if entry_id == 0:\n",
    "            continue\n",
    "\n",
    "        line = line.strip()\n",
    "        name, count = line.split(',')\n",
    "        boy_names_stats.append((name, int(count)))\n",
    "    \n",
    "boy_names_stats"
   ]
  },
  {
   "cell_type": "code",
   "execution_count": 28,
   "metadata": {},
   "outputs": [
    {
     "data": {
      "text/plain": [
       "87739"
      ]
     },
     "execution_count": 28,
     "metadata": {},
     "output_type": "execute_result"
    }
   ],
   "source": [
    "total = 0\n",
    "for entry in boy_names_stats:\n",
    "    total += entry[1]\n",
    "    \n",
    "total"
   ]
  },
  {
   "cell_type": "code",
   "execution_count": 29,
   "metadata": {},
   "outputs": [
    {
     "name": "stdout",
     "output_type": "stream",
     "text": [
      "하준 (1170)\t 0.013\n",
      "서준 (1155)\t 0.013\n",
      "민준 (1124)\t 0.013\n",
      "주원 (1037)\t 0.012\n",
      "도윤 (1030)\t 0.012\n",
      "예준 (959)\t 0.011\n",
      "지호 (950)\t 0.011\n",
      "준우 (833)\t 0.009\n",
      "시우 (815)\t 0.009\n",
      "서진 (777)\t 0.009\n",
      "지후 (750)\t 0.009\n",
      "우진 (662)\t 0.008\n",
      "선우 (655)\t 0.007\n",
      "준서 (652)\t 0.007\n",
      "현우 (644)\t 0.007\n",
      "도현 (621)\t 0.007\n",
      "유준 (611)\t 0.007\n",
      "연우 (560)\t 0.006\n",
      "이안 (555)\t 0.006\n",
      "지훈 (553)\t 0.006\n",
      "기타 (71626)\t 0.816\n"
     ]
    }
   ],
   "source": [
    "for entry in boy_names_stats:\n",
    "    name, count = entry\n",
    "    ratio = count / total\n",
    "    print('{} ({})\\t {:.3f}'.format(name, count, ratio))"
   ]
  },
  {
   "cell_type": "code",
   "execution_count": null,
   "metadata": {
    "collapsed": true
   },
   "outputs": [],
   "source": []
  }
 ],
 "metadata": {
  "kernelspec": {
   "display_name": "Python 3",
   "language": "python",
   "name": "python3"
  },
  "language_info": {
   "codemirror_mode": {
    "name": "ipython",
    "version": 3
   },
   "file_extension": ".py",
   "mimetype": "text/x-python",
   "name": "python",
   "nbconvert_exporter": "python",
   "pygments_lexer": "ipython3",
   "version": "3.5.2"
  }
 },
 "nbformat": 4,
 "nbformat_minor": 1
}
