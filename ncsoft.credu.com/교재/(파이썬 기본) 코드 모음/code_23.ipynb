{
 "cells": [
  {
   "cell_type": "code",
   "execution_count": 1,
   "metadata": {},
   "outputs": [
    {
     "name": "stdout",
     "output_type": "stream",
     "text": [
      "useful\n"
     ]
    }
   ],
   "source": [
    "import useful"
   ]
  },
  {
   "cell_type": "code",
   "execution_count": 2,
   "metadata": {
    "collapsed": true
   },
   "outputs": [],
   "source": [
    "import pandas"
   ]
  },
  {
   "cell_type": "code",
   "execution_count": 3,
   "metadata": {
    "collapsed": true
   },
   "outputs": [],
   "source": [
    "식당 = pandas.read_excel('data/food_order.xlsx')"
   ]
  },
  {
   "cell_type": "code",
   "execution_count": 4,
   "metadata": {
    "scrolled": true
   },
   "outputs": [
    {
     "data": {
      "text/html": [
       "<div>\n",
       "<table border=\"1\" class=\"dataframe\">\n",
       "  <thead>\n",
       "    <tr style=\"text-align: right;\">\n",
       "      <th></th>\n",
       "      <th>date</th>\n",
       "      <th>dine_type</th>\n",
       "      <th>corner</th>\n",
       "      <th>menu</th>\n",
       "      <th>is_sold_out</th>\n",
       "      <th>use_count</th>\n",
       "      <th>pred_count</th>\n",
       "      <th>additional</th>\n",
       "      <th>good</th>\n",
       "      <th>ok</th>\n",
       "      <th>bad</th>\n",
       "      <th>diff_use_pred</th>\n",
       "      <th>year</th>\n",
       "      <th>month</th>\n",
       "      <th>day</th>\n",
       "      <th>wday</th>\n",
       "    </tr>\n",
       "  </thead>\n",
       "  <tbody>\n",
       "    <tr>\n",
       "      <th>0</th>\n",
       "      <td>2013-08-06</td>\n",
       "      <td>dinner</td>\n",
       "      <td>grill &amp; fry</td>\n",
       "      <td>훈제연어벤또(200개)</td>\n",
       "      <td>F</td>\n",
       "      <td>213</td>\n",
       "      <td>0</td>\n",
       "      <td>0</td>\n",
       "      <td>0</td>\n",
       "      <td>0</td>\n",
       "      <td>0</td>\n",
       "      <td>-213</td>\n",
       "      <td>2013</td>\n",
       "      <td>8</td>\n",
       "      <td>6</td>\n",
       "      <td>1</td>\n",
       "    </tr>\n",
       "    <tr>\n",
       "      <th>1</th>\n",
       "      <td>2013-08-06</td>\n",
       "      <td>dinner</td>\n",
       "      <td>rice &amp; soup 1</td>\n",
       "      <td>뚝배기 우거지 갈비탕</td>\n",
       "      <td>F</td>\n",
       "      <td>261</td>\n",
       "      <td>0</td>\n",
       "      <td>0</td>\n",
       "      <td>0</td>\n",
       "      <td>0</td>\n",
       "      <td>0</td>\n",
       "      <td>-261</td>\n",
       "      <td>2013</td>\n",
       "      <td>8</td>\n",
       "      <td>6</td>\n",
       "      <td>1</td>\n",
       "    </tr>\n",
       "    <tr>\n",
       "      <th>2</th>\n",
       "      <td>2013-08-06</td>\n",
       "      <td>lunch</td>\n",
       "      <td>noodle bar</td>\n",
       "      <td>판모밀정식</td>\n",
       "      <td>F</td>\n",
       "      <td>267</td>\n",
       "      <td>0</td>\n",
       "      <td>0</td>\n",
       "      <td>0</td>\n",
       "      <td>0</td>\n",
       "      <td>0</td>\n",
       "      <td>-267</td>\n",
       "      <td>2013</td>\n",
       "      <td>8</td>\n",
       "      <td>6</td>\n",
       "      <td>1</td>\n",
       "    </tr>\n",
       "  </tbody>\n",
       "</table>\n",
       "</div>"
      ],
      "text/plain": [
       "        date dine_type         corner          menu is_sold_out  use_count  \\\n",
       "0 2013-08-06    dinner    grill & fry  훈제연어벤또(200개)           F        213   \n",
       "1 2013-08-06    dinner  rice & soup 1   뚝배기 우거지 갈비탕           F        261   \n",
       "2 2013-08-06     lunch     noodle bar         판모밀정식           F        267   \n",
       "\n",
       "   pred_count  additional  good  ok  bad  diff_use_pred  year  month  day  \\\n",
       "0           0           0     0   0    0           -213  2013      8    6   \n",
       "1           0           0     0   0    0           -261  2013      8    6   \n",
       "2           0           0     0   0    0           -267  2013      8    6   \n",
       "\n",
       "   wday  \n",
       "0     1  \n",
       "1     1  \n",
       "2     1  "
      ]
     },
     "execution_count": 4,
     "metadata": {},
     "output_type": "execute_result"
    }
   ],
   "source": [
    "식당[:3]"
   ]
  },
  {
   "cell_type": "markdown",
   "metadata": {},
   "source": [
    "코너별 시간대별 주문수량 통계 집계"
   ]
  },
  {
   "cell_type": "code",
   "execution_count": 5,
   "metadata": {},
   "outputs": [
    {
     "data": {
      "text/html": [
       "<div>\n",
       "<table border=\"1\" class=\"dataframe\">\n",
       "  <thead>\n",
       "    <tr style=\"text-align: right;\">\n",
       "      <th>dine_type</th>\n",
       "      <th>breakfast</th>\n",
       "      <th>dinner</th>\n",
       "      <th>lunch</th>\n",
       "    </tr>\n",
       "    <tr>\n",
       "      <th>corner</th>\n",
       "      <th></th>\n",
       "      <th></th>\n",
       "      <th></th>\n",
       "    </tr>\n",
       "  </thead>\n",
       "  <tbody>\n",
       "    <tr>\n",
       "      <th>after school</th>\n",
       "      <td>NaN</td>\n",
       "      <td>127.143469</td>\n",
       "      <td>154.848485</td>\n",
       "    </tr>\n",
       "    <tr>\n",
       "      <th>burger&amp;pizza</th>\n",
       "      <td>NaN</td>\n",
       "      <td>117.764967</td>\n",
       "      <td>170.175325</td>\n",
       "    </tr>\n",
       "    <tr>\n",
       "      <th>grill &amp; fry</th>\n",
       "      <td>NaN</td>\n",
       "      <td>186.026144</td>\n",
       "      <td>265.366953</td>\n",
       "    </tr>\n",
       "    <tr>\n",
       "      <th>noodle bar</th>\n",
       "      <td>NaN</td>\n",
       "      <td>122.383772</td>\n",
       "      <td>234.766595</td>\n",
       "    </tr>\n",
       "    <tr>\n",
       "      <th>rice &amp; soup 1</th>\n",
       "      <td>52.449580</td>\n",
       "      <td>217.696203</td>\n",
       "      <td>397.233051</td>\n",
       "    </tr>\n",
       "    <tr>\n",
       "      <th>rice &amp; soup 2</th>\n",
       "      <td>NaN</td>\n",
       "      <td>NaN</td>\n",
       "      <td>241.897590</td>\n",
       "    </tr>\n",
       "    <tr>\n",
       "      <th>take out</th>\n",
       "      <td>46.452381</td>\n",
       "      <td>256.149675</td>\n",
       "      <td>270.598253</td>\n",
       "    </tr>\n",
       "  </tbody>\n",
       "</table>\n",
       "</div>"
      ],
      "text/plain": [
       "dine_type      breakfast      dinner       lunch\n",
       "corner                                          \n",
       "after school         NaN  127.143469  154.848485\n",
       "burger&pizza         NaN  117.764967  170.175325\n",
       "grill & fry          NaN  186.026144  265.366953\n",
       "noodle bar           NaN  122.383772  234.766595\n",
       "rice & soup 1  52.449580  217.696203  397.233051\n",
       "rice & soup 2        NaN         NaN  241.897590\n",
       "take out       46.452381  256.149675  270.598253"
      ]
     },
     "execution_count": 5,
     "metadata": {},
     "output_type": "execute_result"
    }
   ],
   "source": [
    "코너별시간대별주문수량 = 식당.pivot_table(\n",
    "    'use_count', index='corner', columns='dine_type')\n",
    "코너별시간대별주문수량"
   ]
  },
  {
   "cell_type": "markdown",
   "metadata": {},
   "source": [
    "합계순 정렬"
   ]
  },
  {
   "cell_type": "markdown",
   "metadata": {},
   "source": [
    "합계순 내림차순 정렬"
   ]
  },
  {
   "cell_type": "code",
   "execution_count": 6,
   "metadata": {
    "scrolled": true
   },
   "outputs": [
    {
     "data": {
      "text/html": [
       "<div>\n",
       "<table border=\"1\" class=\"dataframe\">\n",
       "  <thead>\n",
       "    <tr style=\"text-align: right;\">\n",
       "      <th>dine_type</th>\n",
       "      <th>breakfast</th>\n",
       "      <th>dinner</th>\n",
       "      <th>lunch</th>\n",
       "    </tr>\n",
       "    <tr>\n",
       "      <th>corner</th>\n",
       "      <th></th>\n",
       "      <th></th>\n",
       "      <th></th>\n",
       "    </tr>\n",
       "  </thead>\n",
       "  <tbody>\n",
       "    <tr>\n",
       "      <th>rice &amp; soup 1</th>\n",
       "      <td>52.449580</td>\n",
       "      <td>217.696203</td>\n",
       "      <td>397.233051</td>\n",
       "    </tr>\n",
       "    <tr>\n",
       "      <th>take out</th>\n",
       "      <td>46.452381</td>\n",
       "      <td>256.149675</td>\n",
       "      <td>270.598253</td>\n",
       "    </tr>\n",
       "    <tr>\n",
       "      <th>grill &amp; fry</th>\n",
       "      <td>NaN</td>\n",
       "      <td>186.026144</td>\n",
       "      <td>265.366953</td>\n",
       "    </tr>\n",
       "    <tr>\n",
       "      <th>rice &amp; soup 2</th>\n",
       "      <td>NaN</td>\n",
       "      <td>NaN</td>\n",
       "      <td>241.897590</td>\n",
       "    </tr>\n",
       "    <tr>\n",
       "      <th>noodle bar</th>\n",
       "      <td>NaN</td>\n",
       "      <td>122.383772</td>\n",
       "      <td>234.766595</td>\n",
       "    </tr>\n",
       "    <tr>\n",
       "      <th>burger&amp;pizza</th>\n",
       "      <td>NaN</td>\n",
       "      <td>117.764967</td>\n",
       "      <td>170.175325</td>\n",
       "    </tr>\n",
       "    <tr>\n",
       "      <th>after school</th>\n",
       "      <td>NaN</td>\n",
       "      <td>127.143469</td>\n",
       "      <td>154.848485</td>\n",
       "    </tr>\n",
       "  </tbody>\n",
       "</table>\n",
       "</div>"
      ],
      "text/plain": [
       "dine_type      breakfast      dinner       lunch\n",
       "corner                                          \n",
       "rice & soup 1  52.449580  217.696203  397.233051\n",
       "take out       46.452381  256.149675  270.598253\n",
       "grill & fry          NaN  186.026144  265.366953\n",
       "rice & soup 2        NaN         NaN  241.897590\n",
       "noodle bar           NaN  122.383772  234.766595\n",
       "burger&pizza         NaN  117.764967  170.175325\n",
       "after school         NaN  127.143469  154.848485"
      ]
     },
     "execution_count": 6,
     "metadata": {},
     "output_type": "execute_result"
    }
   ],
   "source": [
    "코너별시간대별주문수량 = 코너별시간대별주문수량.sort_values(by='lunch', ascending=False)\n",
    "코너별시간대별주문수량"
   ]
  },
  {
   "cell_type": "markdown",
   "metadata": {},
   "source": [
    "막대 그래프 출력"
   ]
  },
  {
   "cell_type": "code",
   "execution_count": 7,
   "metadata": {},
   "outputs": [
    {
     "data": {
      "text/plain": [
       "<matplotlib.axes._subplots.AxesSubplot at 0x10fdbf2e8>"
      ]
     },
     "execution_count": 7,
     "metadata": {},
     "output_type": "execute_result"
    },
    {
     "data": {
      "image/png": "[encoded data removed]",
      "text/plain": [
       "<matplotlib.figure.Figure at 0x10eac7240>"
      ]
     },
     "metadata": {},
     "output_type": "display_data"
    }
   ],
   "source": [
    "%matplotlib inline\n",
    "코너별시간대별주문수량.plot(kind='barh')"
   ]
  },
  {
   "cell_type": "code",
   "execution_count": null,
   "metadata": {
    "collapsed": true
   },
   "outputs": [],
   "source": []
  }
 ],
 "metadata": {
  "kernelspec": {
   "display_name": "Python 3",
   "language": "python",
   "name": "python3"
  },
  "language_info": {
   "codemirror_mode": {
    "name": "ipython",
    "version": 3
   },
   "file_extension": ".py",
   "mimetype": "text/x-python",
   "name": "python",
   "nbconvert_exporter": "python",
   "pygments_lexer": "ipython3",
   "version": "3.5.2"
  }
 },
 "nbformat": 4,
 "nbformat_minor": 1
}
