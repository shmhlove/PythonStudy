{
 "cells": [
  {
   "cell_type": "markdown",
   "metadata": {},
   "source": [
    "## 웹브라우저와 상호 작용"
   ]
  },
  {
   "cell_type": "markdown",
   "metadata": {},
   "source": [
    "### Webdriver\n",
    "\n",
    "[chrome drivers](https://sites.google.com/a/chromium.org/chromedriver/downloads)"
   ]
  },
  {
   "cell_type": "code",
   "execution_count": 1,
   "metadata": {
    "collapsed": true
   },
   "outputs": [],
   "source": [
    "from pyautomate import web"
   ]
  },
  {
   "cell_type": "code",
   "execution_count": 2,
   "metadata": {
    "scrolled": true
   },
   "outputs": [
    {
     "name": "stdout",
     "output_type": "stream",
     "text": [
      "chromedriver 다운로드\n",
      "다운로드 받은 파일 압축 해제 ... 완료\n"
     ]
    }
   ],
   "source": [
    "web.setup_webdriver(2.32)"
   ]
  },
  {
   "cell_type": "markdown",
   "metadata": {},
   "source": [
    "브라우저 열기"
   ]
  },
  {
   "cell_type": "code",
   "execution_count": 3,
   "metadata": {
    "collapsed": true
   },
   "outputs": [],
   "source": [
    "chrome = web.get_browser('./chromedriver')"
   ]
  },
  {
   "cell_type": "code",
   "execution_count": 4,
   "metadata": {
    "collapsed": true
   },
   "outputs": [],
   "source": [
    "chrome.get('http://www.naver.com')"
   ]
  },
  {
   "cell_type": "code",
   "execution_count": 5,
   "metadata": {
    "collapsed": true
   },
   "outputs": [],
   "source": [
    "search_box = chrome.find_element_by_css_selector('#query')"
   ]
  },
  {
   "cell_type": "code",
   "execution_count": 6,
   "metadata": {
    "collapsed": true
   },
   "outputs": [],
   "source": [
    "search_box.send_keys('파이썬')"
   ]
  },
  {
   "cell_type": "code",
   "execution_count": 7,
   "metadata": {
    "collapsed": true
   },
   "outputs": [],
   "source": [
    "search_box.send_keys(web.Keys.RETURN)"
   ]
  },
  {
   "cell_type": "code",
   "execution_count": 8,
   "metadata": {
    "collapsed": true
   },
   "outputs": [],
   "source": [
    "chrome.quit()"
   ]
  },
  {
   "cell_type": "markdown",
   "metadata": {},
   "source": [
    "### 네이버 검색 결과 링크 추출"
   ]
  },
  {
   "cell_type": "markdown",
   "metadata": {},
   "source": [
    "크롬 브라우저에서 검색 결과 페이지 표시"
   ]
  },
  {
   "cell_type": "code",
   "execution_count": 9,
   "metadata": {
    "collapsed": true
   },
   "outputs": [],
   "source": [
    "chrome = web.get_browser('./chromedriver')\n",
    "chrome.get('http://www.naver.com')\n",
    "\n",
    "search_box = chrome.find_element_by_css_selector('#query')\n",
    "search_box.send_keys('파이썬', web.Keys.RETURN)"
   ]
  },
  {
   "cell_type": "markdown",
   "metadata": {},
   "source": [
    "검색 결과 링크 선택"
   ]
  },
  {
   "cell_type": "code",
   "execution_count": 10,
   "metadata": {
    "collapsed": true
   },
   "outputs": [],
   "source": [
    "search_results = chrome.find_elements_by_css_selector('.webdoc.section a.link')"
   ]
  },
  {
   "cell_type": "code",
   "execution_count": 11,
   "metadata": {
    "scrolled": false
   },
   "outputs": [
    {
     "data": {
      "text/plain": [
       "[<selenium.webdriver.remote.webelement.WebElement (session=\"e2346f5f5bf48767596fb44de2754ddf\", element=\"0.8373528349024337-1\")>,\n",
       " <selenium.webdriver.remote.webelement.WebElement (session=\"e2346f5f5bf48767596fb44de2754ddf\", element=\"0.8373528349024337-2\")>,\n",
       " <selenium.webdriver.remote.webelement.WebElement (session=\"e2346f5f5bf48767596fb44de2754ddf\", element=\"0.8373528349024337-3\")>]"
      ]
     },
     "execution_count": 11,
     "metadata": {},
     "output_type": "execute_result"
    }
   ],
   "source": [
    "search_results"
   ]
  },
  {
   "cell_type": "code",
   "execution_count": 12,
   "metadata": {
    "scrolled": true
   },
   "outputs": [
    {
     "data": {
      "text/plain": [
       "'http://www.kyobobook.co.kr/product/detailViewKor.laf?barcode=9788968481819'"
      ]
     },
     "execution_count": 12,
     "metadata": {},
     "output_type": "execute_result"
    }
   ],
   "source": [
    "search_results[0].get_attribute('href')"
   ]
  },
  {
   "cell_type": "markdown",
   "metadata": {},
   "source": [
    "검색 결과 링크에서 URL과 설명 추출"
   ]
  },
  {
   "cell_type": "code",
   "execution_count": 13,
   "metadata": {
    "collapsed": true
   },
   "outputs": [],
   "source": [
    "네이버검색결과_URL= web.get_urls(search_results)"
   ]
  },
  {
   "cell_type": "code",
   "execution_count": 14,
   "metadata": {},
   "outputs": [
    {
     "name": "stdout",
     "output_type": "stream",
     "text": [
      "파이썬 웹프로그래밍 http://www.kyobobook.co.kr/product/detailViewKor.laf?barcode=9788968481819\n",
      "파이썬 생존 안내서 (자막) http://www.slideshare.net/sublee/ss-67589513\n",
      "도도와 파이썬: 좋은 선택과 나쁜 선택 http://www.slideshare.net/shinvee/ss-52215845\n"
     ]
    }
   ],
   "source": [
    "for 제목, url in 네이버검색결과_URL:\n",
    "    print(제목, url)"
   ]
  },
  {
   "cell_type": "markdown",
   "metadata": {},
   "source": [
    "크롬 브라우저 종료"
   ]
  },
  {
   "cell_type": "code",
   "execution_count": 15,
   "metadata": {
    "collapsed": true
   },
   "outputs": [],
   "source": [
    "chrome.quit()"
   ]
  },
  {
   "cell_type": "markdown",
   "metadata": {},
   "source": [
    "추출한 검색 결과 링크를 엑셀 파일로 저장"
   ]
  },
  {
   "cell_type": "code",
   "execution_count": 16,
   "metadata": {
    "collapsed": true
   },
   "outputs": [],
   "source": [
    "from pandas import DataFrame\n",
    "from pyautomate import office"
   ]
  },
  {
   "cell_type": "code",
   "execution_count": 17,
   "metadata": {
    "collapsed": true
   },
   "outputs": [],
   "source": [
    "네이버검색결과_URL표 = DataFrame(네이버검색결과_URL)"
   ]
  },
  {
   "cell_type": "code",
   "execution_count": 18,
   "metadata": {},
   "outputs": [
    {
     "data": {
      "text/html": [
       "<div>\n",
       "<table border=\"1\" class=\"dataframe\">\n",
       "  <thead>\n",
       "    <tr style=\"text-align: right;\">\n",
       "      <th></th>\n",
       "      <th>text</th>\n",
       "      <th>url</th>\n",
       "    </tr>\n",
       "  </thead>\n",
       "  <tbody>\n",
       "    <tr>\n",
       "      <th>0</th>\n",
       "      <td>파이썬 웹프로그래밍</td>\n",
       "      <td>http://www.kyobobook.co.kr/product/detailViewK...</td>\n",
       "    </tr>\n",
       "    <tr>\n",
       "      <th>1</th>\n",
       "      <td>파이썬 생존 안내서 (자막)</td>\n",
       "      <td>http://www.slideshare.net/sublee/ss-67589513</td>\n",
       "    </tr>\n",
       "    <tr>\n",
       "      <th>2</th>\n",
       "      <td>도도와 파이썬: 좋은 선택과 나쁜 선택</td>\n",
       "      <td>http://www.slideshare.net/shinvee/ss-52215845</td>\n",
       "    </tr>\n",
       "  </tbody>\n",
       "</table>\n",
       "</div>"
      ],
      "text/plain": [
       "                    text                                                url\n",
       "0             파이썬 웹프로그래밍  http://www.kyobobook.co.kr/product/detailViewK...\n",
       "1        파이썬 생존 안내서 (자막)       http://www.slideshare.net/sublee/ss-67589513\n",
       "2  도도와 파이썬: 좋은 선택과 나쁜 선택      http://www.slideshare.net/shinvee/ss-52215845"
      ]
     },
     "execution_count": 18,
     "metadata": {},
     "output_type": "execute_result"
    }
   ],
   "source": [
    "네이버검색결과_URL표"
   ]
  },
  {
   "cell_type": "code",
   "execution_count": 19,
   "metadata": {
    "collapsed": true
   },
   "outputs": [],
   "source": [
    "office.to_excel(네이버검색결과_URL표, '네이버 검색결과.xlsx')"
   ]
  },
  {
   "cell_type": "markdown",
   "metadata": {},
   "source": [
    "# 비동기 로딩 웹페이지 정보 추출\n",
    "\n",
    "종종 웹페이지는 페이지가 표시된 다음 계속해서 정보가 갱신될 수 있다."
   ]
  },
  {
   "cell_type": "code",
   "execution_count": 20,
   "metadata": {},
   "outputs": [
    {
     "data": {
      "text/plain": [
       "[<span class=\"num\">2,065.77</span>,\n",
       " <span class=\"num\">627.88</span>,\n",
       " <span class=\"num\">266.52</span>]"
      ]
     },
     "execution_count": 20,
     "metadata": {},
     "output_type": "execute_result"
    }
   ],
   "source": [
    "html = web.parse_html('http://finance.naver.com/')\n",
    "html.select(\".num_quot > .num\")"
   ]
  },
  {
   "cell_type": "code",
   "execution_count": 21,
   "metadata": {},
   "outputs": [
    {
     "name": "stdout",
     "output_type": "stream",
     "text": [
      "페이지 로딩 중 ...\n",
      "2017.01.16 13:49장중\t KOSPI: 2065.47\n",
      "2017.01.16 13:49장중\t KOSPI: 2067.16\n",
      "2017.01.16 13:49장중\t KOSPI: 2066.18\n",
      "2017.01.16 13:49장중\t KOSPI: 2066.59\n",
      "2017.01.16 13:49장중\t KOSPI: 2066.27\n",
      "2017.01.16 13:49장중\t KOSPI: 2066.47\n",
      "2017.01.16 13:50장중\t KOSPI: 2066.33\n",
      "2017.01.16 13:50장중\t KOSPI: 2066.09\n",
      "2017.01.16 13:50장중\t KOSPI: 2066.54\n",
      "2017.01.16 13:50장중\t KOSPI: 2066.99\n"
     ]
    }
   ],
   "source": [
    "import time\n",
    "\n",
    "chrome =  web.get_browser('./chromedriver')\n",
    "chrome.get('http://finance.naver.com/')\n",
    "print('페이지 로딩 중 ...')\n",
    "time.sleep(1)\n",
    "\n",
    "증시정보 = []\n",
    "for i in range(10):\n",
    "    KOSPI지표_요소 = chrome.find_elements_by_css_selector(\".num_quot > .num\")\n",
    "    시간표시_요소 = chrome.find_element_by_css_selector('#time')\n",
    "\n",
    "    증시 = {}\n",
    "\n",
    "    kospi = KOSPI지표_요소[0].text\n",
    "    kospi = float(kospi.replace(',', ''))\n",
    "    증시['KOSPI'] = kospi\n",
    "\n",
    "    시간 = 시간표시_요소.text\n",
    "    증시['시간'] = 시간\n",
    "    \n",
    "    증시정보.append(증시)\n",
    "\n",
    "    print('{시간}\\t KOSPI: {KOSPI}'.format(**증시))\n",
    "    time.sleep(10)\n",
    "\n",
    "chrome.quit()"
   ]
  },
  {
   "cell_type": "code",
   "execution_count": 22,
   "metadata": {
    "collapsed": true
   },
   "outputs": [],
   "source": [
    "증시정보 = DataFrame(증시정보)"
   ]
  },
  {
   "cell_type": "code",
   "execution_count": 23,
   "metadata": {},
   "outputs": [
    {
     "data": {
      "text/html": [
       "<div>\n",
       "<table border=\"1\" class=\"dataframe\">\n",
       "  <thead>\n",
       "    <tr style=\"text-align: right;\">\n",
       "      <th></th>\n",
       "      <th>KOSPI</th>\n",
       "      <th>시간</th>\n",
       "    </tr>\n",
       "  </thead>\n",
       "  <tbody>\n",
       "    <tr>\n",
       "      <th>0</th>\n",
       "      <td>2065.47</td>\n",
       "      <td>2017.01.16 13:49장중</td>\n",
       "    </tr>\n",
       "    <tr>\n",
       "      <th>1</th>\n",
       "      <td>2067.16</td>\n",
       "      <td>2017.01.16 13:49장중</td>\n",
       "    </tr>\n",
       "    <tr>\n",
       "      <th>2</th>\n",
       "      <td>2066.18</td>\n",
       "      <td>2017.01.16 13:49장중</td>\n",
       "    </tr>\n",
       "    <tr>\n",
       "      <th>3</th>\n",
       "      <td>2066.59</td>\n",
       "      <td>2017.01.16 13:49장중</td>\n",
       "    </tr>\n",
       "    <tr>\n",
       "      <th>4</th>\n",
       "      <td>2066.27</td>\n",
       "      <td>2017.01.16 13:49장중</td>\n",
       "    </tr>\n",
       "    <tr>\n",
       "      <th>5</th>\n",
       "      <td>2066.47</td>\n",
       "      <td>2017.01.16 13:49장중</td>\n",
       "    </tr>\n",
       "    <tr>\n",
       "      <th>6</th>\n",
       "      <td>2066.33</td>\n",
       "      <td>2017.01.16 13:50장중</td>\n",
       "    </tr>\n",
       "    <tr>\n",
       "      <th>7</th>\n",
       "      <td>2066.09</td>\n",
       "      <td>2017.01.16 13:50장중</td>\n",
       "    </tr>\n",
       "    <tr>\n",
       "      <th>8</th>\n",
       "      <td>2066.54</td>\n",
       "      <td>2017.01.16 13:50장중</td>\n",
       "    </tr>\n",
       "    <tr>\n",
       "      <th>9</th>\n",
       "      <td>2066.99</td>\n",
       "      <td>2017.01.16 13:50장중</td>\n",
       "    </tr>\n",
       "  </tbody>\n",
       "</table>\n",
       "</div>"
      ],
      "text/plain": [
       "     KOSPI                  시간\n",
       "0  2065.47  2017.01.16 13:49장중\n",
       "1  2067.16  2017.01.16 13:49장중\n",
       "2  2066.18  2017.01.16 13:49장중\n",
       "3  2066.59  2017.01.16 13:49장중\n",
       "4  2066.27  2017.01.16 13:49장중\n",
       "5  2066.47  2017.01.16 13:49장중\n",
       "6  2066.33  2017.01.16 13:50장중\n",
       "7  2066.09  2017.01.16 13:50장중\n",
       "8  2066.54  2017.01.16 13:50장중\n",
       "9  2066.99  2017.01.16 13:50장중"
      ]
     },
     "execution_count": 23,
     "metadata": {},
     "output_type": "execute_result"
    }
   ],
   "source": [
    "증시정보"
   ]
  },
  {
   "cell_type": "code",
   "execution_count": 24,
   "metadata": {
    "collapsed": true
   },
   "outputs": [],
   "source": [
    "office.to_excel(증시정보, 'KOSPI_20170116.xlsx')"
   ]
  },
  {
   "cell_type": "code",
   "execution_count": null,
   "metadata": {
    "collapsed": true
   },
   "outputs": [],
   "source": []
  }
 ],
 "metadata": {
  "kernelspec": {
   "display_name": "Python 3",
   "language": "python",
   "name": "python3"
  },
  "language_info": {
   "codemirror_mode": {
    "name": "ipython",
    "version": 3
   },
   "file_extension": ".py",
   "mimetype": "text/x-python",
   "name": "python",
   "nbconvert_exporter": "python",
   "pygments_lexer": "ipython3",
   "version": "3.5.2"
  }
 },
 "nbformat": 4,
 "nbformat_minor": 1
}
