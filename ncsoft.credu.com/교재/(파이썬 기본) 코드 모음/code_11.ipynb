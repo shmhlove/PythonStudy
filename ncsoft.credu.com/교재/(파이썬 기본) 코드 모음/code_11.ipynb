{
 "cells": [
  {
   "cell_type": "code",
   "execution_count": 1,
   "metadata": {},
   "outputs": [],
   "source": [
    "import pyautomate"
   ]
  },
  {
   "cell_type": "code",
   "execution_count": 2,
   "metadata": {},
   "outputs": [],
   "source": [
    "from pyautomate import fs"
   ]
  },
  {
   "cell_type": "markdown",
   "metadata": {},
   "source": [
    "# 파일 정리 "
   ]
  },
  {
   "cell_type": "markdown",
   "metadata": {},
   "source": [
    "## 폴더 생성"
   ]
  },
  {
   "cell_type": "code",
   "execution_count": 3,
   "metadata": {
    "collapsed": true
   },
   "outputs": [],
   "source": [
    "dirname = 'sandbox/'"
   ]
  },
  {
   "cell_type": "code",
   "execution_count": 4,
   "metadata": {},
   "outputs": [
    {
     "data": {
      "text/plain": [
       "'sandbox/'"
      ]
     },
     "execution_count": 4,
     "metadata": {},
     "output_type": "execute_result"
    }
   ],
   "source": [
    "fs.makedirs(dirname)"
   ]
  },
  {
   "cell_type": "markdown",
   "metadata": {},
   "source": [
    "폴더 내용 확인"
   ]
  },
  {
   "cell_type": "code",
   "execution_count": 5,
   "metadata": {},
   "outputs": [
    {
     "data": {
      "text/plain": [
       "['code_03.ipynb',\n",
       " 'code_04.ipynb',\n",
       " 'code_05.ipynb',\n",
       " 'code_06.ipynb',\n",
       " 'code_07.ipynb',\n",
       " 'code_08.ipynb',\n",
       " 'code_09.ipynb',\n",
       " 'code_10.ipynb',\n",
       " 'code_11.ipynb',\n",
       " 'code_12.ipynb',\n",
       " 'code_13.ipynb',\n",
       " 'code_14.ipynb',\n",
       " 'code_15.ipynb',\n",
       " 'code_16.ipynb',\n",
       " 'code_17.ipynb',\n",
       " 'code_18.ipynb',\n",
       " 'code_19.ipynb',\n",
       " 'code_20.ipynb',\n",
       " 'code_21.ipynb',\n",
       " 'code_22.ipynb',\n",
       " 'code_23.ipynb',\n",
       " 'code_24.ipynb',\n",
       " 'data',\n",
       " 'README.md',\n",
       " 'sandbox',\n",
       " '첨부',\n",
       " '첨부파일.zip']"
      ]
     },
     "execution_count": 5,
     "metadata": {},
     "output_type": "execute_result"
    }
   ],
   "source": [
    "fs.listdir()"
   ]
  },
  {
   "cell_type": "markdown",
   "metadata": {},
   "source": [
    "빈 파일 생성"
   ]
  },
  {
   "cell_type": "code",
   "execution_count": 6,
   "metadata": {},
   "outputs": [
    {
     "data": {
      "text/plain": [
       "'sandbox/empty.txt'"
      ]
     },
     "execution_count": 6,
     "metadata": {},
     "output_type": "execute_result"
    }
   ],
   "source": [
    "filepath = fs.join(dirname, 'empty.txt')\n",
    "filepath"
   ]
  },
  {
   "cell_type": "code",
   "execution_count": 7,
   "metadata": {},
   "outputs": [],
   "source": [
    "fs.touch(filepath)"
   ]
  },
  {
   "cell_type": "code",
   "execution_count": 8,
   "metadata": {},
   "outputs": [
    {
     "data": {
      "text/plain": [
       "['empty.txt']"
      ]
     },
     "execution_count": 8,
     "metadata": {},
     "output_type": "execute_result"
    }
   ],
   "source": [
    "fs.listdir(dirname)"
   ]
  },
  {
   "cell_type": "code",
   "execution_count": 9,
   "metadata": {
    "collapsed": true
   },
   "outputs": [],
   "source": [
    "fs.touch(fs.join(dirname, 'empty2.txt'))"
   ]
  },
  {
   "cell_type": "code",
   "execution_count": 10,
   "metadata": {},
   "outputs": [
    {
     "data": {
      "text/plain": [
       "['empty.txt', 'empty2.txt']"
      ]
     },
     "execution_count": 10,
     "metadata": {},
     "output_type": "execute_result"
    }
   ],
   "source": [
    "fs.listdir(dirname)"
   ]
  },
  {
   "cell_type": "markdown",
   "metadata": {},
   "source": [
    "## 파일과 폴더 복사 "
   ]
  },
  {
   "cell_type": "code",
   "execution_count": 11,
   "metadata": {
    "collapsed": true
   },
   "outputs": [],
   "source": [
    "from_path = fs.join(dirname, 'empty.txt')\n",
    "to_path = fs.join(dirname, 'no.txt')"
   ]
  },
  {
   "cell_type": "code",
   "execution_count": 12,
   "metadata": {},
   "outputs": [
    {
     "data": {
      "text/plain": [
       "'sandbox/no.txt'"
      ]
     },
     "execution_count": 12,
     "metadata": {},
     "output_type": "execute_result"
    }
   ],
   "source": [
    "fs.copy(from_path, to_path)"
   ]
  },
  {
   "cell_type": "code",
   "execution_count": 13,
   "metadata": {},
   "outputs": [
    {
     "data": {
      "text/plain": [
       "['empty.txt', 'empty2.txt', 'no.txt']"
      ]
     },
     "execution_count": 13,
     "metadata": {},
     "output_type": "execute_result"
    }
   ],
   "source": [
    "fs.listdir(dirname)"
   ]
  },
  {
   "cell_type": "markdown",
   "metadata": {},
   "source": [
    "폴더 전체 복사\n",
    "\n",
    "* 대상 폴더가 없으면 생성해준다."
   ]
  },
  {
   "cell_type": "code",
   "execution_count": 14,
   "metadata": {
    "scrolled": true
   },
   "outputs": [
    {
     "data": {
      "text/plain": [
       "'backup'"
      ]
     },
     "execution_count": 14,
     "metadata": {},
     "output_type": "execute_result"
    }
   ],
   "source": [
    "fs.copy(dirname, 'backup')"
   ]
  },
  {
   "cell_type": "code",
   "execution_count": 15,
   "metadata": {},
   "outputs": [
    {
     "data": {
      "text/plain": [
       "['backup',\n",
       " 'code_03.ipynb',\n",
       " 'code_04.ipynb',\n",
       " 'code_05.ipynb',\n",
       " 'code_06.ipynb',\n",
       " 'code_07.ipynb',\n",
       " 'code_08.ipynb',\n",
       " 'code_09.ipynb',\n",
       " 'code_10.ipynb',\n",
       " 'code_11.ipynb',\n",
       " 'code_12.ipynb',\n",
       " 'code_13.ipynb',\n",
       " 'code_14.ipynb',\n",
       " 'code_15.ipynb',\n",
       " 'code_16.ipynb',\n",
       " 'code_17.ipynb',\n",
       " 'code_18.ipynb',\n",
       " 'code_19.ipynb',\n",
       " 'code_20.ipynb',\n",
       " 'code_21.ipynb',\n",
       " 'code_22.ipynb',\n",
       " 'code_23.ipynb',\n",
       " 'code_24.ipynb',\n",
       " 'data',\n",
       " 'README.md',\n",
       " 'sandbox',\n",
       " '첨부',\n",
       " '첨부파일.zip']"
      ]
     },
     "execution_count": 15,
     "metadata": {},
     "output_type": "execute_result"
    }
   ],
   "source": [
    "fs.listdir()"
   ]
  },
  {
   "cell_type": "code",
   "execution_count": 16,
   "metadata": {},
   "outputs": [
    {
     "data": {
      "text/plain": [
       "['empty.txt', 'empty2.txt', 'no.txt']"
      ]
     },
     "execution_count": 16,
     "metadata": {},
     "output_type": "execute_result"
    }
   ],
   "source": [
    "fs.listdir('backup')"
   ]
  },
  {
   "cell_type": "markdown",
   "metadata": {
    "collapsed": true
   },
   "source": [
    "## 이동과 이름 변경"
   ]
  },
  {
   "cell_type": "markdown",
   "metadata": {},
   "source": [
    "파일을 폴더로 이동"
   ]
  },
  {
   "cell_type": "code",
   "execution_count": 17,
   "metadata": {},
   "outputs": [],
   "source": [
    "fs.touch('README.txt')"
   ]
  },
  {
   "cell_type": "code",
   "execution_count": 18,
   "metadata": {},
   "outputs": [
    {
     "data": {
      "text/plain": [
       "'sandbox/README.txt'"
      ]
     },
     "execution_count": 18,
     "metadata": {},
     "output_type": "execute_result"
    }
   ],
   "source": [
    "fs.move('README.txt', 'sandbox/')"
   ]
  },
  {
   "cell_type": "code",
   "execution_count": 19,
   "metadata": {},
   "outputs": [
    {
     "data": {
      "text/plain": [
       "['empty.txt', 'empty2.txt', 'no.txt', 'README.txt']"
      ]
     },
     "execution_count": 19,
     "metadata": {},
     "output_type": "execute_result"
    }
   ],
   "source": [
    "fs.listdir('sandbox/')"
   ]
  },
  {
   "cell_type": "markdown",
   "metadata": {},
   "source": [
    "파일명 변경"
   ]
  },
  {
   "cell_type": "code",
   "execution_count": 20,
   "metadata": {},
   "outputs": [
    {
     "data": {
      "text/plain": [
       "'sandbox/IMPORTANT.txt'"
      ]
     },
     "execution_count": 20,
     "metadata": {},
     "output_type": "execute_result"
    }
   ],
   "source": [
    "fs.move('sandbox/README.txt', 'sandbox/IMPORTANT.txt')"
   ]
  },
  {
   "cell_type": "code",
   "execution_count": 21,
   "metadata": {},
   "outputs": [
    {
     "data": {
      "text/plain": [
       "['empty.txt', 'empty2.txt', 'IMPORTANT.txt', 'no.txt']"
      ]
     },
     "execution_count": 21,
     "metadata": {},
     "output_type": "execute_result"
    }
   ],
   "source": [
    "fs.listdir('sandbox/')"
   ]
  },
  {
   "cell_type": "markdown",
   "metadata": {},
   "source": [
    "대상 폴더가 없는 경우, 유의할 점"
   ]
  },
  {
   "cell_type": "code",
   "execution_count": 22,
   "metadata": {},
   "outputs": [
    {
     "data": {
      "text/plain": [
       "'sandbox/no-such-folder'"
      ]
     },
     "execution_count": 22,
     "metadata": {},
     "output_type": "execute_result"
    }
   ],
   "source": [
    "fs.move('sandbox/IMPORTANT.txt', 'sandbox/no-such-folder')"
   ]
  },
  {
   "cell_type": "markdown",
   "metadata": {},
   "source": [
    "확장자가 없는 no-such-folder 파일이 생성된다."
   ]
  },
  {
   "cell_type": "code",
   "execution_count": 23,
   "metadata": {
    "scrolled": true
   },
   "outputs": [
    {
     "data": {
      "text/plain": [
       "['empty.txt', 'empty2.txt', 'no-such-folder', 'no.txt']"
      ]
     },
     "execution_count": 23,
     "metadata": {},
     "output_type": "execute_result"
    }
   ],
   "source": [
    "fs.listdir('sandbox/')"
   ]
  },
  {
   "cell_type": "markdown",
   "metadata": {},
   "source": [
    "## 삭제"
   ]
  },
  {
   "cell_type": "code",
   "execution_count": 24,
   "metadata": {},
   "outputs": [
    {
     "data": {
      "text/plain": [
       "True"
      ]
     },
     "execution_count": 24,
     "metadata": {},
     "output_type": "execute_result"
    }
   ],
   "source": [
    "fs.delete('sandbox/no-such-folder')"
   ]
  },
  {
   "cell_type": "code",
   "execution_count": 25,
   "metadata": {
    "scrolled": true
   },
   "outputs": [
    {
     "data": {
      "text/plain": [
       "False"
      ]
     },
     "execution_count": 25,
     "metadata": {},
     "output_type": "execute_result"
    }
   ],
   "source": [
    "fs.delete('no-such-folder')"
   ]
  },
  {
   "cell_type": "code",
   "execution_count": 26,
   "metadata": {},
   "outputs": [
    {
     "data": {
      "text/plain": [
       "True"
      ]
     },
     "execution_count": 26,
     "metadata": {},
     "output_type": "execute_result"
    }
   ],
   "source": [
    "'backup' in fs.listdir()"
   ]
  },
  {
   "cell_type": "code",
   "execution_count": 27,
   "metadata": {},
   "outputs": [
    {
     "data": {
      "text/plain": [
       "True"
      ]
     },
     "execution_count": 27,
     "metadata": {},
     "output_type": "execute_result"
    }
   ],
   "source": [
    "fs.delete('backup/')"
   ]
  },
  {
   "cell_type": "code",
   "execution_count": 28,
   "metadata": {},
   "outputs": [
    {
     "data": {
      "text/plain": [
       "False"
      ]
     },
     "execution_count": 28,
     "metadata": {},
     "output_type": "execute_result"
    }
   ],
   "source": [
    "'backup' in fs.listdir()"
   ]
  },
  {
   "cell_type": "markdown",
   "metadata": {},
   "source": [
    "walk"
   ]
  },
  {
   "cell_type": "code",
   "execution_count": 29,
   "metadata": {
    "collapsed": true
   },
   "outputs": [],
   "source": [
    "root_dir = 'project'\n",
    "fs.makedirs(root_dir)\n",
    "\n",
    "fs.touch(fs.join(root_dir, 'README.txt'))\n",
    "for team in ['개발', '디자인', '마케팅']:\n",
    "    path = fs.join(root_dir, team)\n",
    "    if not fs.exists(path):\n",
    "        fs.makedirs(path)\n",
    "        \n",
    "    for document in ['데이터.csv', '보고서.docx', '분석.xlsx']:\n",
    "        filepath = fs.join(path, document)\n",
    "        fs.touch(filepath)"
   ]
  },
  {
   "cell_type": "code",
   "execution_count": 30,
   "metadata": {},
   "outputs": [
    {
     "data": {
      "text/plain": [
       "['README.txt', '개발', '디자인', '마케팅']"
      ]
     },
     "execution_count": 30,
     "metadata": {},
     "output_type": "execute_result"
    }
   ],
   "source": [
    "fs.listdir('project/')"
   ]
  },
  {
   "cell_type": "code",
   "execution_count": 31,
   "metadata": {},
   "outputs": [
    {
     "name": "stdout",
     "output_type": "stream",
     "text": [
      "project/\n",
      "\t개발\n",
      "\t디자인\n",
      "\t마케팅\n",
      "\tREADME.txt\n",
      "project/개발\n",
      "\t데이터.csv\n",
      "\t보고서.docx\n",
      "\t분석.xlsx\n",
      "project/디자인\n",
      "\t데이터.csv\n",
      "\t보고서.docx\n",
      "\t분석.xlsx\n",
      "project/마케팅\n",
      "\t데이터.csv\n",
      "\t보고서.docx\n",
      "\t분석.xlsx\n"
     ]
    }
   ],
   "source": [
    "for folder, subfolders, filenames in fs.walk('project/'):\n",
    "    print(folder)\n",
    "    \n",
    "    for dirs in subfolders:\n",
    "        print('\\t{}'.format(dirs))\n",
    "        \n",
    "    for file in filenames:\n",
    "        print('\\t{}'.format(file))"
   ]
  },
  {
   "cell_type": "markdown",
   "metadata": {},
   "source": [
    "대상 폴더의 파일명에 날짜 정보를 일괄 삽입하기"
   ]
  },
  {
   "cell_type": "code",
   "execution_count": 32,
   "metadata": {},
   "outputs": [
    {
     "data": {
      "text/plain": [
       "'2017-07-06'"
      ]
     },
     "execution_count": 32,
     "metadata": {},
     "output_type": "execute_result"
    }
   ],
   "source": [
    "timestamp = pyautomate.get_timestamp()\n",
    "timestamp"
   ]
  },
  {
   "cell_type": "code",
   "execution_count": 33,
   "metadata": {
    "collapsed": true
   },
   "outputs": [],
   "source": [
    "exts = ['.csv', '.docx', '.xlsx']"
   ]
  },
  {
   "cell_type": "code",
   "execution_count": 34,
   "metadata": {},
   "outputs": [
    {
     "data": {
      "text/plain": [
       "('데이터', '.csv')"
      ]
     },
     "execution_count": 34,
     "metadata": {},
     "output_type": "execute_result"
    }
   ],
   "source": [
    "fs.splitext('데이터.csv')"
   ]
  },
  {
   "cell_type": "code",
   "execution_count": 35,
   "metadata": {},
   "outputs": [
    {
     "name": "stdout",
     "output_type": "stream",
     "text": [
      "project/개발/데이터.csv --> project/개발/데이터_2017-07-06.csv\n",
      "project/개발/보고서.docx --> project/개발/보고서_2017-07-06.docx\n",
      "project/개발/분석.xlsx --> project/개발/분석_2017-07-06.xlsx\n",
      "project/디자인/데이터.csv --> project/디자인/데이터_2017-07-06.csv\n",
      "project/디자인/보고서.docx --> project/디자인/보고서_2017-07-06.docx\n",
      "project/디자인/분석.xlsx --> project/디자인/분석_2017-07-06.xlsx\n",
      "project/마케팅/데이터.csv --> project/마케팅/데이터_2017-07-06.csv\n",
      "project/마케팅/보고서.docx --> project/마케팅/보고서_2017-07-06.docx\n",
      "project/마케팅/분석.xlsx --> project/마케팅/분석_2017-07-06.xlsx\n"
     ]
    }
   ],
   "source": [
    "for folder, subfolders, filenames in fs.walk('project/'):\n",
    "    for file in filenames:\n",
    "        root, ext = fs.splitext(file)\n",
    "        if ext in exts:\n",
    "            new_path = '{}_{}{}'.format(root, timestamp, ext)\n",
    "            new_path = fs.join(folder, new_path)\n",
    "            old_path = fs.join(folder, file)\n",
    "            fs.move(old_path, new_path)\n",
    "            print('{} --> {}'.format(old_path, new_path))"
   ]
  },
  {
   "cell_type": "markdown",
   "metadata": {},
   "source": [
    "## 파일 압축 "
   ]
  },
  {
   "cell_type": "code",
   "execution_count": 36,
   "metadata": {
    "collapsed": true
   },
   "outputs": [],
   "source": [
    "fs.zip('첨부파일.zip', 'project')"
   ]
  },
  {
   "cell_type": "code",
   "execution_count": 37,
   "metadata": {},
   "outputs": [
    {
     "data": {
      "text/plain": [
       "['code_03.ipynb',\n",
       " 'code_04.ipynb',\n",
       " 'code_05.ipynb',\n",
       " 'code_06.ipynb',\n",
       " 'code_07.ipynb',\n",
       " 'code_08.ipynb',\n",
       " 'code_09.ipynb',\n",
       " 'code_10.ipynb',\n",
       " 'code_11.ipynb',\n",
       " 'code_12.ipynb',\n",
       " 'code_13.ipynb',\n",
       " 'code_14.ipynb',\n",
       " 'code_15.ipynb',\n",
       " 'code_16.ipynb',\n",
       " 'code_17.ipynb',\n",
       " 'code_18.ipynb',\n",
       " 'code_19.ipynb',\n",
       " 'code_20.ipynb',\n",
       " 'code_21.ipynb',\n",
       " 'code_22.ipynb',\n",
       " 'code_23.ipynb',\n",
       " 'code_24.ipynb',\n",
       " 'data',\n",
       " 'project',\n",
       " 'README.md',\n",
       " 'sandbox',\n",
       " '첨부',\n",
       " '첨부파일.zip']"
      ]
     },
     "execution_count": 37,
     "metadata": {},
     "output_type": "execute_result"
    }
   ],
   "source": [
    "fs.listdir()"
   ]
  },
  {
   "cell_type": "markdown",
   "metadata": {},
   "source": [
    "압축 해제"
   ]
  },
  {
   "cell_type": "code",
   "execution_count": 38,
   "metadata": {
    "collapsed": true
   },
   "outputs": [],
   "source": [
    "fs.unzip('첨부파일.zip', '첨부')"
   ]
  },
  {
   "cell_type": "code",
   "execution_count": 39,
   "metadata": {},
   "outputs": [
    {
     "data": {
      "text/plain": [
       "['code_03.ipynb',\n",
       " 'code_04.ipynb',\n",
       " 'code_05.ipynb',\n",
       " 'code_06.ipynb',\n",
       " 'code_07.ipynb',\n",
       " 'code_08.ipynb',\n",
       " 'code_09.ipynb',\n",
       " 'code_10.ipynb',\n",
       " 'code_11.ipynb',\n",
       " 'code_12.ipynb',\n",
       " 'code_13.ipynb',\n",
       " 'code_14.ipynb',\n",
       " 'code_15.ipynb',\n",
       " 'code_16.ipynb',\n",
       " 'code_17.ipynb',\n",
       " 'code_18.ipynb',\n",
       " 'code_19.ipynb',\n",
       " 'code_20.ipynb',\n",
       " 'code_21.ipynb',\n",
       " 'code_22.ipynb',\n",
       " 'code_23.ipynb',\n",
       " 'code_24.ipynb',\n",
       " 'data',\n",
       " 'project',\n",
       " 'README.md',\n",
       " 'sandbox',\n",
       " '첨부',\n",
       " '첨부파일.zip']"
      ]
     },
     "execution_count": 39,
     "metadata": {},
     "output_type": "execute_result"
    }
   ],
   "source": [
    "fs.listdir()"
   ]
  },
  {
   "cell_type": "code",
   "execution_count": null,
   "metadata": {
    "collapsed": true
   },
   "outputs": [],
   "source": []
  }
 ],
 "metadata": {
  "kernelspec": {
   "display_name": "Python 3",
   "language": "python",
   "name": "python3"
  },
  "language_info": {
   "codemirror_mode": {
    "name": "ipython",
    "version": 3
   },
   "file_extension": ".py",
   "mimetype": "text/x-python",
   "name": "python",
   "nbconvert_exporter": "python",
   "pygments_lexer": "ipython3",
   "version": "3.5.2"
  }
 },
 "nbformat": 4,
 "nbformat_minor": 1
}
