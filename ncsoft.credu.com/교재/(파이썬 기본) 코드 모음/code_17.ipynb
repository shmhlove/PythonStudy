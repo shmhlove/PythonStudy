{
 "cells": [
  {
   "cell_type": "code",
   "execution_count": 1,
   "metadata": {
    "collapsed": true
   },
   "outputs": [],
   "source": [
    "from pyautomate import web"
   ]
  },
  {
   "cell_type": "markdown",
   "metadata": {},
   "source": [
    "# 웹페이지 정보 추출"
   ]
  },
  {
   "cell_type": "markdown",
   "metadata": {},
   "source": [
    "### 구글 검색"
   ]
  },
  {
   "cell_type": "code",
   "execution_count": 2,
   "metadata": {},
   "outputs": [],
   "source": [
    "def 구글검색(키워드):\n",
    "    url = 'http://google.com/search?q={0}'.format(키워드)\n",
    "    html = web.parse_html(url)\n",
    "    결과링크태그목록 = html.select('.r a')\n",
    "    return 결과링크태그목록"
   ]
  },
  {
   "cell_type": "code",
   "execution_count": 3,
   "metadata": {
    "scrolled": true
   },
   "outputs": [],
   "source": [
    "검색결과 = 구글검색('파이썬')"
   ]
  },
  {
   "cell_type": "code",
   "execution_count": 4,
   "metadata": {},
   "outputs": [
    {
     "data": {
      "text/plain": [
       "[<a href=\"/url?q=https://www.python.org/&amp;sa=U&amp;ved=0ahUKEwim1vubk9HWAhWBsJQKHYi2Ak0QFggTMAA&amp;usg=AOvVaw0zKJpjk3xYjzIhZacGXsDf\">Welcome to <b>Python</b>.org</a>,\n",
       " <a href=\"/url?q=https://ko.wikipedia.org/wiki/%25ED%258C%258C%25EC%259D%25B4%25EC%258D%25AC&amp;sa=U&amp;ved=0ahUKEwim1vubk9HWAhWBsJQKHYi2Ak0QFggeMAE&amp;usg=AOvVaw3TK3oUQuIrFR4yMVELFrC5\"><b>파이썬</b> - 위키백과, 우리 모두의 백과사전</a>,\n",
       " <a href=\"/url?q=https://namu.wiki/w/Python&amp;sa=U&amp;ved=0ahUKEwim1vubk9HWAhWBsJQKHYi2Ak0QFggpMAI&amp;usg=AOvVaw1OsNh5obg68P4D-9NskqXP\"><b>Python</b> - 나무위키</a>,\n",
       " <a href=\"/url?q=https://wikidocs.net/6&amp;sa=U&amp;ved=0ahUKEwim1vubk9HWAhWBsJQKHYi2Ak0QFgg0MAM&amp;usg=AOvVaw1Lr4wiJ9i-uo4C5fYExHH-\">01-2 <b>파이썬</b>의 특징 - 점프 투 <b>파이썬</b> - WikiDocs</a>,\n",
       " <a href=\"/url?q=https://tutorial.djangogirls.org/ko/python_introduction/&amp;sa=U&amp;ved=0ahUKEwim1vubk9HWAhWBsJQKHYi2Ak0QFgg6MAQ&amp;usg=AOvVaw31DIQUMf4aQQvSggNJA0Es\"><b>Python</b> 시작하기 · Django Girls Tutorial</a>,\n",
       " <a href=\"/url?q=https://www.codecademy.com/ko/tracks/python-ko&amp;sa=U&amp;ved=0ahUKEwim1vubk9HWAhWBsJQKHYi2Ak0QFgg_MAU&amp;usg=AOvVaw3C7oTcfq6amyc8T0bOkutz\"><b>Python</b> - Codecademy</a>,\n",
       " <a href=\"/url?q=https://www.codecademy.com/ko/tracks/python-ko/resume&amp;sa=U&amp;ved=0ahUKEwim1vubk9HWAhWBsJQKHYi2Ak0QFghFMAY&amp;usg=AOvVaw1AxH5VbRlWrQAFhpCbYbAx\"><b>파이썬</b> 문법 | Codecademy</a>,\n",
       " <a href=\"/url?q=https://nolboo.kim/blog/2014/08/10/the-best-way-to-learn-python/&amp;sa=U&amp;ved=0ahUKEwim1vubk9HWAhWBsJQKHYi2Ak0QFghKMAc&amp;usg=AOvVaw29YaHGQv7wSPYkfG2ZAq0w\"><b>파이썬</b>을 배우는 최고의 방법 - Nolboo's Blog</a>,\n",
       " <a href=\"/url?q=https://www.inflearn.com/course/%25ED%258C%258C%25EC%259D%25B4%25EC%258D%25AC-%25EA%25B0%2595%25EC%25A2%258C/&amp;sa=U&amp;ved=0ahUKEwim1vubk9HWAhWBsJQKHYi2Ak0QFghQMAg&amp;usg=AOvVaw0RFehbRERdUrC73eCLBt8Y\"><b>파이썬</b> 강좌 <b>python</b> 프로그래밍 배우기 - 입문자를 위한 <b>파이썬</b> 배우기</a>,\n",
       " <a href=\"/search?q=%ED%8C%8C%EC%9D%B4%EC%8D%AC&amp;dcr=0&amp;ie=UTF-8&amp;prmd=ivnsb&amp;tbm=isch&amp;tbo=u&amp;source=univ&amp;sa=X&amp;ved=0ahUKEwim1vubk9HWAhWBsJQKHYi2Ak0QsAQIVQ\"><b>파이썬</b> 관련 이미지</a>]"
      ]
     },
     "execution_count": 4,
     "metadata": {},
     "output_type": "execute_result"
    }
   ],
   "source": [
    "검색결과"
   ]
  },
  {
   "cell_type": "markdown",
   "metadata": {},
   "source": [
    "URL 목록 추출"
   ]
  },
  {
   "cell_type": "code",
   "execution_count": 5,
   "metadata": {},
   "outputs": [],
   "source": [
    "구글검색URL = web.get_urls(검색결과)"
   ]
  },
  {
   "cell_type": "code",
   "execution_count": 6,
   "metadata": {},
   "outputs": [
    {
     "name": "stdout",
     "output_type": "stream",
     "text": [
      "Welcome to Python.org /url?q=https://www.python.org/&sa=U&ved=0ahUKEwim1vubk9HWAhWBsJQKHYi2Ak0QFggTMAA&usg=AOvVaw0zKJpjk3xYjzIhZacGXsDf\n",
      "파이썬 - 위키백과, 우리 모두의 백과사전 /url?q=https://ko.wikipedia.org/wiki/%25ED%258C%258C%25EC%259D%25B4%25EC%258D%25AC&sa=U&ved=0ahUKEwim1vubk9HWAhWBsJQKHYi2Ak0QFggeMAE&usg=AOvVaw3TK3oUQuIrFR4yMVELFrC5\n",
      "Python - 나무위키 /url?q=https://namu.wiki/w/Python&sa=U&ved=0ahUKEwim1vubk9HWAhWBsJQKHYi2Ak0QFggpMAI&usg=AOvVaw1OsNh5obg68P4D-9NskqXP\n",
      "01-2 파이썬의 특징 - 점프 투 파이썬 - WikiDocs /url?q=https://wikidocs.net/6&sa=U&ved=0ahUKEwim1vubk9HWAhWBsJQKHYi2Ak0QFgg0MAM&usg=AOvVaw1Lr4wiJ9i-uo4C5fYExHH-\n",
      "Python 시작하기   Django Girls Tutorial /url?q=https://tutorial.djangogirls.org/ko/python_introduction/&sa=U&ved=0ahUKEwim1vubk9HWAhWBsJQKHYi2Ak0QFgg6MAQ&usg=AOvVaw31DIQUMf4aQQvSggNJA0Es\n",
      "Python - Codecademy /url?q=https://www.codecademy.com/ko/tracks/python-ko&sa=U&ved=0ahUKEwim1vubk9HWAhWBsJQKHYi2Ak0QFgg_MAU&usg=AOvVaw3C7oTcfq6amyc8T0bOkutz\n",
      "파이썬 문법 | Codecademy /url?q=https://www.codecademy.com/ko/tracks/python-ko/resume&sa=U&ved=0ahUKEwim1vubk9HWAhWBsJQKHYi2Ak0QFghFMAY&usg=AOvVaw1AxH5VbRlWrQAFhpCbYbAx\n",
      "파이썬을 배우는 최고의 방법 - Nolboo's Blog /url?q=https://nolboo.kim/blog/2014/08/10/the-best-way-to-learn-python/&sa=U&ved=0ahUKEwim1vubk9HWAhWBsJQKHYi2Ak0QFghKMAc&usg=AOvVaw29YaHGQv7wSPYkfG2ZAq0w\n",
      "파이썬 강좌 python 프로그래밍 배우기 - 입문자를 위한 파이썬 배우기 /url?q=https://www.inflearn.com/course/%25ED%258C%258C%25EC%259D%25B4%25EC%258D%25AC-%25EA%25B0%2595%25EC%25A2%258C/&sa=U&ved=0ahUKEwim1vubk9HWAhWBsJQKHYi2Ak0QFghQMAg&usg=AOvVaw0RFehbRERdUrC73eCLBt8Y\n",
      "파이썬 관련 이미지 /search?q=%ED%8C%8C%EC%9D%B4%EC%8D%AC&dcr=0&ie=UTF-8&prmd=ivnsb&tbm=isch&tbo=u&source=univ&sa=X&ved=0ahUKEwim1vubk9HWAhWBsJQKHYi2Ak0QsAQIVQ\n"
     ]
    }
   ],
   "source": [
    "for 제목, url in 구글검색URL:\n",
    "    print(제목, url)"
   ]
  },
  {
   "cell_type": "code",
   "execution_count": 7,
   "metadata": {},
   "outputs": [
    {
     "data": {
      "text/plain": [
       "'/url?q=https://www.python.org/&sa=U&ved=0ahUKEwim1vubk9HWAhWBsJQKHYi2Ak0QFggTMAA&usg=AOvVaw0zKJpjk3xYjzIhZacGXsDf'"
      ]
     },
     "execution_count": 7,
     "metadata": {},
     "output_type": "execute_result"
    }
   ],
   "source": [
    "구글검색URL[0].url"
   ]
  },
  {
   "cell_type": "markdown",
   "metadata": {},
   "source": [
    "구글 검색 결과 링크 추출"
   ]
  },
  {
   "cell_type": "code",
   "execution_count": 8,
   "metadata": {
    "collapsed": true
   },
   "outputs": [],
   "source": [
    "from urllib.parse import urlparse, parse_qs"
   ]
  },
  {
   "cell_type": "code",
   "execution_count": 9,
   "metadata": {},
   "outputs": [],
   "source": [
    "url = urlparse(구글검색URL[0].url)"
   ]
  },
  {
   "cell_type": "code",
   "execution_count": 10,
   "metadata": {},
   "outputs": [
    {
     "data": {
      "text/plain": [
       "'https://www.python.org/'"
      ]
     },
     "execution_count": 10,
     "metadata": {},
     "output_type": "execute_result"
    }
   ],
   "source": [
    "parse_qs(url.query).get('q')[0]"
   ]
  },
  {
   "cell_type": "code",
   "execution_count": 11,
   "metadata": {
    "collapsed": true
   },
   "outputs": [],
   "source": [
    "def extract_google_url(url):\n",
    "    return parse_qs(urlparse(url).query).get('q')[0]"
   ]
  },
  {
   "cell_type": "code",
   "execution_count": 12,
   "metadata": {},
   "outputs": [
    {
     "data": {
      "text/plain": [
       "'https://www.python.org/'"
      ]
     },
     "execution_count": 12,
     "metadata": {},
     "output_type": "execute_result"
    }
   ],
   "source": [
    "extract_google_url(구글검색URL[0].url)"
   ]
  },
  {
   "cell_type": "code",
   "execution_count": 13,
   "metadata": {},
   "outputs": [
    {
     "name": "stdout",
     "output_type": "stream",
     "text": [
      "Welcome to Python.org https://www.python.org/\n",
      "파이썬 - 위키백과, 우리 모두의 백과사전 https://ko.wikipedia.org/wiki/%ED%8C%8C%EC%9D%B4%EC%8D%AC\n",
      "Python - 나무위키 https://namu.wiki/w/Python\n",
      "01-2 파이썬의 특징 - 점프 투 파이썬 - WikiDocs https://wikidocs.net/6\n",
      "Python 시작하기   Django Girls Tutorial https://tutorial.djangogirls.org/ko/python_introduction/\n",
      "Python - Codecademy https://www.codecademy.com/ko/tracks/python-ko\n",
      "파이썬 문법 | Codecademy https://www.codecademy.com/ko/tracks/python-ko/resume\n",
      "파이썬을 배우는 최고의 방법 - Nolboo's Blog https://nolboo.kim/blog/2014/08/10/the-best-way-to-learn-python/\n",
      "파이썬 강좌 python 프로그래밍 배우기 - 입문자를 위한 파이썬 배우기 https://www.inflearn.com/course/%ED%8C%8C%EC%9D%B4%EC%8D%AC-%EA%B0%95%EC%A2%8C/\n",
      "파이썬 관련 이미지 파이썬\n"
     ]
    }
   ],
   "source": [
    "for 제목, url in 구글검색URL:\n",
    "    url = extract_google_url(url)\n",
    "    print(제목, url)"
   ]
  },
  {
   "cell_type": "markdown",
   "metadata": {},
   "source": [
    "### 네이버 검색"
   ]
  },
  {
   "cell_type": "code",
   "execution_count": 14,
   "metadata": {
    "collapsed": true
   },
   "outputs": [],
   "source": [
    "def 네이버검색(키워드, section):\n",
    "    url = 'https://search.naver.com/search.naver?query={}'.format(키워드)\n",
    "    html = web.parse_html(url)\n",
    "    selector = '.{}.section a.link'.format(section)\n",
    "    search_results = html.select('.webdoc.section a.link')\n",
    "    return search_results"
   ]
  },
  {
   "cell_type": "code",
   "execution_count": 15,
   "metadata": {},
   "outputs": [],
   "source": [
    "네이버검색결과 = 네이버검색('파이썬', section='webdoc')"
   ]
  },
  {
   "cell_type": "code",
   "execution_count": 16,
   "metadata": {},
   "outputs": [
    {
     "data": {
      "text/plain": [
       "[<a class=\"link sh_web_title sh_web_link\" href=\"https://namu.wiki/w/%ED%8C%8C%EC%9D%B4%EC%8D%AC(%EC%8A%A4%ED%83%80%ED%81%AC%EB%9E%98%ED%94%84%ED%8A%B8)\" onclick=\"return goOtherCR(this, 'a=web_bas*w.tit&amp;r=1&amp;i=a00000fa_be9c5ae0fc31989f502f4f92&amp;u='+urlencode(this.href ? this.href : location.href))\" target=\"_blank\"><strong class=\"hl\">파이썬</strong>(스타크래프트) - 나무위키</a>,\n",
       " <a class=\"link sh_web_title sh_web_link\" href=\"https://wikidocs.net/book/1\" onclick=\"return goOtherCR(this, 'a=web_bas*w.tit&amp;r=2&amp;i=a00000fa_a1c1904f7d7afaaf2be8ea38&amp;u='+urlencode(this.href ? this.href : location.href))\" target=\"_blank\">점프 투 <strong class=\"hl\">파이썬</strong> - WikiDocs</a>,\n",
       " <a class=\"link sh_web_title sh_web_link\" href=\"https://wikidocs.net/book/110\" onclick=\"return goOtherCR(this, 'a=web_bas*w.tit&amp;r=3&amp;i=a00000fa_1d51a59258d582a4989a7316&amp;u='+urlencode(this.href ? this.href : location.href))\" target=\"_blank\"><strong class=\"hl\">파이썬</strong>으로 배우는 알고리즘 트레이딩 - WikiDocs</a>]"
      ]
     },
     "execution_count": 16,
     "metadata": {},
     "output_type": "execute_result"
    }
   ],
   "source": [
    "네이버검색결과"
   ]
  },
  {
   "cell_type": "code",
   "execution_count": 17,
   "metadata": {},
   "outputs": [],
   "source": [
    "네이버검색결과_URL = web.get_urls(네이버검색결과)"
   ]
  },
  {
   "cell_type": "code",
   "execution_count": 18,
   "metadata": {},
   "outputs": [
    {
     "name": "stdout",
     "output_type": "stream",
     "text": [
      "파이썬(스타크래프트) - 나무위키 https://namu.wiki/w/%ED%8C%8C%EC%9D%B4%EC%8D%AC(%EC%8A%A4%ED%83%80%ED%81%AC%EB%9E%98%ED%94%84%ED%8A%B8)\n",
      "점프 투 파이썬 - WikiDocs https://wikidocs.net/book/1\n",
      "파이썬으로 배우는 알고리즘 트레이딩 - WikiDocs https://wikidocs.net/book/110\n"
     ]
    }
   ],
   "source": [
    "for 제목, url in 네이버검색결과_URL:\n",
    "    print(제목, url)"
   ]
  },
  {
   "cell_type": "code",
   "execution_count": 19,
   "metadata": {
    "collapsed": true
   },
   "outputs": [],
   "source": [
    "from pandas import DataFrame"
   ]
  },
  {
   "cell_type": "code",
   "execution_count": 20,
   "metadata": {},
   "outputs": [],
   "source": [
    "네이버검색결과_URL표 = DataFrame(네이버검색결과_URL)"
   ]
  },
  {
   "cell_type": "code",
   "execution_count": 21,
   "metadata": {},
   "outputs": [
    {
     "data": {
      "text/html": [
       "<div>\n",
       "<table border=\"1\" class=\"dataframe\">\n",
       "  <thead>\n",
       "    <tr style=\"text-align: right;\">\n",
       "      <th></th>\n",
       "      <th>text</th>\n",
       "      <th>url</th>\n",
       "    </tr>\n",
       "  </thead>\n",
       "  <tbody>\n",
       "    <tr>\n",
       "      <th>0</th>\n",
       "      <td>파이썬(스타크래프트) - 나무위키</td>\n",
       "      <td>https://namu.wiki/w/%ED%8C%8C%EC%9D%B4%EC%8D%A...</td>\n",
       "    </tr>\n",
       "    <tr>\n",
       "      <th>1</th>\n",
       "      <td>점프 투 파이썬 - WikiDocs</td>\n",
       "      <td>https://wikidocs.net/book/1</td>\n",
       "    </tr>\n",
       "    <tr>\n",
       "      <th>2</th>\n",
       "      <td>파이썬으로 배우는 알고리즘 트레이딩 - WikiDocs</td>\n",
       "      <td>https://wikidocs.net/book/110</td>\n",
       "    </tr>\n",
       "  </tbody>\n",
       "</table>\n",
       "</div>"
      ],
      "text/plain": [
       "                             text  \\\n",
       "0              파이썬(스타크래프트) - 나무위키   \n",
       "1             점프 투 파이썬 - WikiDocs   \n",
       "2  파이썬으로 배우는 알고리즘 트레이딩 - WikiDocs   \n",
       "\n",
       "                                                 url  \n",
       "0  https://namu.wiki/w/%ED%8C%8C%EC%9D%B4%EC%8D%A...  \n",
       "1                        https://wikidocs.net/book/1  \n",
       "2                      https://wikidocs.net/book/110  "
      ]
     },
     "execution_count": 21,
     "metadata": {},
     "output_type": "execute_result"
    }
   ],
   "source": [
    "네이버검색결과_URL표"
   ]
  },
  {
   "cell_type": "markdown",
   "metadata": {},
   "source": [
    "## 웹브라우저와 상호 작용"
   ]
  },
  {
   "cell_type": "markdown",
   "metadata": {},
   "source": [
    "### webbrowser"
   ]
  },
  {
   "cell_type": "markdown",
   "metadata": {},
   "source": [
    "웹 브라우저에서 웹문서 열기"
   ]
  },
  {
   "cell_type": "code",
   "execution_count": 22,
   "metadata": {
    "collapsed": true
   },
   "outputs": [],
   "source": [
    "import webbrowser"
   ]
  },
  {
   "cell_type": "code",
   "execution_count": 23,
   "metadata": {
    "scrolled": true
   },
   "outputs": [
    {
     "data": {
      "text/plain": [
       "True"
      ]
     },
     "execution_count": 23,
     "metadata": {},
     "output_type": "execute_result"
    }
   ],
   "source": [
    "webbrowser.open('http://kr.plaync.com/')"
   ]
  },
  {
   "cell_type": "code",
   "execution_count": 24,
   "metadata": {},
   "outputs": [],
   "source": [
    "for _, url in 네이버검색결과_URL:\n",
    "    webbrowser.open(url)"
   ]
  }
 ],
 "metadata": {
  "kernelspec": {
   "display_name": "Python 3",
   "language": "python",
   "name": "python3"
  },
  "language_info": {
   "codemirror_mode": {
    "name": "ipython",
    "version": 3
   },
   "file_extension": ".py",
   "mimetype": "text/x-python",
   "name": "python",
   "nbconvert_exporter": "python",
   "pygments_lexer": "ipython3",
   "version": "3.5.2"
  }
 },
 "nbformat": 4,
 "nbformat_minor": 1
}
